{
 "cells": [
  {
   "cell_type": "markdown",
   "metadata": {},
   "source": [
    "# Data Wrangling and Cleaning"
   ]
  },
  {
   "cell_type": "code",
   "execution_count": 2,
   "metadata": {
    "collapsed": true
   },
   "outputs": [],
   "source": [
    "import pandas as pd\n",
    "import numpy as np\n",
    "from datetime import datetime\n",
    "import scipy.stats as stats\n",
    "import matplotlib.pyplot as plt\n",
    "import sklearn\n",
    "import seaborn as sns\n",
    "\n",
    "# convert year, month and day to one datetime object\n",
    "flights=pd.read_csv('flights.csv', low_memory=False, parse_dates=[[1, 2]], \n",
    "                    date_parser=lambda *columns: datetime(2015, *map(int, columns)), index_col=0)"
   ]
  },
  {
   "cell_type": "code",
   "execution_count": 3,
   "metadata": {
    "collapsed": true
   },
   "outputs": [],
   "source": [
    "# filter only CHI - BOS flights and BOS - CHI\n",
    "\n",
    "ORIG = flights['ORIGIN_AIRPORT'].isin(['ORD','BOS'])\n",
    "DEST = flights['DESTINATION_AIRPORT'].isin(['ORD','BOS'])\n",
    "flights_clean = flights[ORIG & DEST]\n",
    "flights_clean.is_copy = False\n",
    "flights_clean['DATE']=flights_clean.index"
   ]
  },
  {
   "cell_type": "code",
   "execution_count": 4,
   "metadata": {},
   "outputs": [
    {
     "data": {
      "text/html": [
       "<div>\n",
       "<style>\n",
       "    .dataframe thead tr:only-child th {\n",
       "        text-align: right;\n",
       "    }\n",
       "\n",
       "    .dataframe thead th {\n",
       "        text-align: left;\n",
       "    }\n",
       "\n",
       "    .dataframe tbody tr th {\n",
       "        vertical-align: top;\n",
       "    }\n",
       "</style>\n",
       "<table border=\"1\" class=\"dataframe\">\n",
       "  <thead>\n",
       "    <tr style=\"text-align: right;\">\n",
       "      <th></th>\n",
       "      <th>YEAR</th>\n",
       "      <th>DAY_OF_WEEK</th>\n",
       "      <th>AIRLINE</th>\n",
       "      <th>FLIGHT_NUMBER</th>\n",
       "      <th>TAIL_NUMBER</th>\n",
       "      <th>ORIGIN_AIRPORT</th>\n",
       "      <th>DESTINATION_AIRPORT</th>\n",
       "      <th>SCHEDULED_DEPARTURE</th>\n",
       "      <th>DEPARTURE_TIME</th>\n",
       "      <th>DEPARTURE_DELAY</th>\n",
       "      <th>...</th>\n",
       "      <th>ARRIVAL_DELAY</th>\n",
       "      <th>DIVERTED</th>\n",
       "      <th>CANCELLED</th>\n",
       "      <th>CANCELLATION_REASON</th>\n",
       "      <th>AIR_SYSTEM_DELAY</th>\n",
       "      <th>SECURITY_DELAY</th>\n",
       "      <th>AIRLINE_DELAY</th>\n",
       "      <th>LATE_AIRCRAFT_DELAY</th>\n",
       "      <th>WEATHER_DELAY</th>\n",
       "      <th>DATE</th>\n",
       "    </tr>\n",
       "    <tr>\n",
       "      <th>MONTH_DAY</th>\n",
       "      <th></th>\n",
       "      <th></th>\n",
       "      <th></th>\n",
       "      <th></th>\n",
       "      <th></th>\n",
       "      <th></th>\n",
       "      <th></th>\n",
       "      <th></th>\n",
       "      <th></th>\n",
       "      <th></th>\n",
       "      <th></th>\n",
       "      <th></th>\n",
       "      <th></th>\n",
       "      <th></th>\n",
       "      <th></th>\n",
       "      <th></th>\n",
       "      <th></th>\n",
       "      <th></th>\n",
       "      <th></th>\n",
       "      <th></th>\n",
       "      <th></th>\n",
       "    </tr>\n",
       "  </thead>\n",
       "  <tbody>\n",
       "    <tr>\n",
       "      <th>2015-01-01</th>\n",
       "      <td>2015</td>\n",
       "      <td>4</td>\n",
       "      <td>B6</td>\n",
       "      <td>1012</td>\n",
       "      <td>N375JB</td>\n",
       "      <td>ORD</td>\n",
       "      <td>BOS</td>\n",
       "      <td>540</td>\n",
       "      <td>529.0</td>\n",
       "      <td>-11.0</td>\n",
       "      <td>...</td>\n",
       "      <td>-33.0</td>\n",
       "      <td>0</td>\n",
       "      <td>0</td>\n",
       "      <td>NaN</td>\n",
       "      <td>NaN</td>\n",
       "      <td>NaN</td>\n",
       "      <td>NaN</td>\n",
       "      <td>NaN</td>\n",
       "      <td>NaN</td>\n",
       "      <td>2015-01-01</td>\n",
       "    </tr>\n",
       "    <tr>\n",
       "      <th>2015-01-01</th>\n",
       "      <td>2015</td>\n",
       "      <td>4</td>\n",
       "      <td>UA</td>\n",
       "      <td>1198</td>\n",
       "      <td>N38451</td>\n",
       "      <td>BOS</td>\n",
       "      <td>ORD</td>\n",
       "      <td>600</td>\n",
       "      <td>557.0</td>\n",
       "      <td>-3.0</td>\n",
       "      <td>...</td>\n",
       "      <td>-11.0</td>\n",
       "      <td>0</td>\n",
       "      <td>0</td>\n",
       "      <td>NaN</td>\n",
       "      <td>NaN</td>\n",
       "      <td>NaN</td>\n",
       "      <td>NaN</td>\n",
       "      <td>NaN</td>\n",
       "      <td>NaN</td>\n",
       "      <td>2015-01-01</td>\n",
       "    </tr>\n",
       "    <tr>\n",
       "      <th>2015-01-01</th>\n",
       "      <td>2015</td>\n",
       "      <td>4</td>\n",
       "      <td>UA</td>\n",
       "      <td>521</td>\n",
       "      <td>N854UA</td>\n",
       "      <td>BOS</td>\n",
       "      <td>ORD</td>\n",
       "      <td>700</td>\n",
       "      <td>700.0</td>\n",
       "      <td>0.0</td>\n",
       "      <td>...</td>\n",
       "      <td>13.0</td>\n",
       "      <td>0</td>\n",
       "      <td>0</td>\n",
       "      <td>NaN</td>\n",
       "      <td>NaN</td>\n",
       "      <td>NaN</td>\n",
       "      <td>NaN</td>\n",
       "      <td>NaN</td>\n",
       "      <td>NaN</td>\n",
       "      <td>2015-01-01</td>\n",
       "    </tr>\n",
       "    <tr>\n",
       "      <th>2015-01-01</th>\n",
       "      <td>2015</td>\n",
       "      <td>4</td>\n",
       "      <td>AA</td>\n",
       "      <td>1247</td>\n",
       "      <td>N3CHAA</td>\n",
       "      <td>BOS</td>\n",
       "      <td>ORD</td>\n",
       "      <td>700</td>\n",
       "      <td>659.0</td>\n",
       "      <td>-1.0</td>\n",
       "      <td>...</td>\n",
       "      <td>5.0</td>\n",
       "      <td>0</td>\n",
       "      <td>0</td>\n",
       "      <td>NaN</td>\n",
       "      <td>NaN</td>\n",
       "      <td>NaN</td>\n",
       "      <td>NaN</td>\n",
       "      <td>NaN</td>\n",
       "      <td>NaN</td>\n",
       "      <td>2015-01-01</td>\n",
       "    </tr>\n",
       "    <tr>\n",
       "      <th>2015-01-01</th>\n",
       "      <td>2015</td>\n",
       "      <td>4</td>\n",
       "      <td>B6</td>\n",
       "      <td>111</td>\n",
       "      <td>N267JB</td>\n",
       "      <td>BOS</td>\n",
       "      <td>ORD</td>\n",
       "      <td>715</td>\n",
       "      <td>710.0</td>\n",
       "      <td>-5.0</td>\n",
       "      <td>...</td>\n",
       "      <td>-1.0</td>\n",
       "      <td>0</td>\n",
       "      <td>0</td>\n",
       "      <td>NaN</td>\n",
       "      <td>NaN</td>\n",
       "      <td>NaN</td>\n",
       "      <td>NaN</td>\n",
       "      <td>NaN</td>\n",
       "      <td>NaN</td>\n",
       "      <td>2015-01-01</td>\n",
       "    </tr>\n",
       "  </tbody>\n",
       "</table>\n",
       "<p>5 rows × 30 columns</p>\n",
       "</div>"
      ],
      "text/plain": [
       "            YEAR  DAY_OF_WEEK AIRLINE  FLIGHT_NUMBER TAIL_NUMBER  \\\n",
       "MONTH_DAY                                                          \n",
       "2015-01-01  2015            4      B6           1012      N375JB   \n",
       "2015-01-01  2015            4      UA           1198      N38451   \n",
       "2015-01-01  2015            4      UA            521      N854UA   \n",
       "2015-01-01  2015            4      AA           1247      N3CHAA   \n",
       "2015-01-01  2015            4      B6            111      N267JB   \n",
       "\n",
       "           ORIGIN_AIRPORT DESTINATION_AIRPORT  SCHEDULED_DEPARTURE  \\\n",
       "MONTH_DAY                                                            \n",
       "2015-01-01            ORD                 BOS                  540   \n",
       "2015-01-01            BOS                 ORD                  600   \n",
       "2015-01-01            BOS                 ORD                  700   \n",
       "2015-01-01            BOS                 ORD                  700   \n",
       "2015-01-01            BOS                 ORD                  715   \n",
       "\n",
       "            DEPARTURE_TIME  DEPARTURE_DELAY    ...      ARRIVAL_DELAY  \\\n",
       "MONTH_DAY                                      ...                      \n",
       "2015-01-01           529.0            -11.0    ...              -33.0   \n",
       "2015-01-01           557.0             -3.0    ...              -11.0   \n",
       "2015-01-01           700.0              0.0    ...               13.0   \n",
       "2015-01-01           659.0             -1.0    ...                5.0   \n",
       "2015-01-01           710.0             -5.0    ...               -1.0   \n",
       "\n",
       "            DIVERTED  CANCELLED  CANCELLATION_REASON  AIR_SYSTEM_DELAY  \\\n",
       "MONTH_DAY                                                                \n",
       "2015-01-01         0          0                  NaN               NaN   \n",
       "2015-01-01         0          0                  NaN               NaN   \n",
       "2015-01-01         0          0                  NaN               NaN   \n",
       "2015-01-01         0          0                  NaN               NaN   \n",
       "2015-01-01         0          0                  NaN               NaN   \n",
       "\n",
       "            SECURITY_DELAY  AIRLINE_DELAY  LATE_AIRCRAFT_DELAY  WEATHER_DELAY  \\\n",
       "MONTH_DAY                                                                       \n",
       "2015-01-01             NaN            NaN                  NaN            NaN   \n",
       "2015-01-01             NaN            NaN                  NaN            NaN   \n",
       "2015-01-01             NaN            NaN                  NaN            NaN   \n",
       "2015-01-01             NaN            NaN                  NaN            NaN   \n",
       "2015-01-01             NaN            NaN                  NaN            NaN   \n",
       "\n",
       "                 DATE  \n",
       "MONTH_DAY              \n",
       "2015-01-01 2015-01-01  \n",
       "2015-01-01 2015-01-01  \n",
       "2015-01-01 2015-01-01  \n",
       "2015-01-01 2015-01-01  \n",
       "2015-01-01 2015-01-01  \n",
       "\n",
       "[5 rows x 30 columns]"
      ]
     },
     "execution_count": 4,
     "metadata": {},
     "output_type": "execute_result"
    }
   ],
   "source": [
    "# delete rows with any missing information in ARRIVAL_DELAY column - essentially filters out all cancellations \n",
    "flights_clean = flights_clean.dropna(subset=['ARRIVAL_DELAY']) \n",
    "flights_clean.head()\n"
   ]
  },
  {
   "cell_type": "code",
   "execution_count": 5,
   "metadata": {},
   "outputs": [
    {
     "data": {
      "text/html": [
       "<div>\n",
       "<style>\n",
       "    .dataframe thead tr:only-child th {\n",
       "        text-align: right;\n",
       "    }\n",
       "\n",
       "    .dataframe thead th {\n",
       "        text-align: left;\n",
       "    }\n",
       "\n",
       "    .dataframe tbody tr th {\n",
       "        vertical-align: top;\n",
       "    }\n",
       "</style>\n",
       "<table border=\"1\" class=\"dataframe\">\n",
       "  <thead>\n",
       "    <tr style=\"text-align: right;\">\n",
       "      <th></th>\n",
       "      <th>NAME</th>\n",
       "      <th>LATITUDE</th>\n",
       "      <th>LONGITUDE</th>\n",
       "      <th>ELEVATION</th>\n",
       "      <th>DATE</th>\n",
       "      <th>AWND</th>\n",
       "      <th>AWND_ATTRIBUTES</th>\n",
       "      <th>DAPR</th>\n",
       "      <th>DAPR_ATTRIBUTES</th>\n",
       "      <th>EVAP</th>\n",
       "      <th>...</th>\n",
       "      <th>WT06_ATTRIBUTES</th>\n",
       "      <th>WT08</th>\n",
       "      <th>WT08_ATTRIBUTES</th>\n",
       "      <th>WT09</th>\n",
       "      <th>WT09_ATTRIBUTES</th>\n",
       "      <th>WT10</th>\n",
       "      <th>WT10_ATTRIBUTES</th>\n",
       "      <th>WT11</th>\n",
       "      <th>WT11_ATTRIBUTES</th>\n",
       "      <th>ORIGIN_AIRPORT</th>\n",
       "    </tr>\n",
       "    <tr>\n",
       "      <th>STATION</th>\n",
       "      <th></th>\n",
       "      <th></th>\n",
       "      <th></th>\n",
       "      <th></th>\n",
       "      <th></th>\n",
       "      <th></th>\n",
       "      <th></th>\n",
       "      <th></th>\n",
       "      <th></th>\n",
       "      <th></th>\n",
       "      <th></th>\n",
       "      <th></th>\n",
       "      <th></th>\n",
       "      <th></th>\n",
       "      <th></th>\n",
       "      <th></th>\n",
       "      <th></th>\n",
       "      <th></th>\n",
       "      <th></th>\n",
       "      <th></th>\n",
       "      <th></th>\n",
       "    </tr>\n",
       "  </thead>\n",
       "  <tbody>\n",
       "    <tr>\n",
       "      <th>US1ILCK0148</th>\n",
       "      <td>OAK LAWN 1.9 SE, IL US</td>\n",
       "      <td>41.6936</td>\n",
       "      <td>-87.729</td>\n",
       "      <td>182.3</td>\n",
       "      <td>2015-03-10</td>\n",
       "      <td>NaN</td>\n",
       "      <td>NaN</td>\n",
       "      <td>NaN</td>\n",
       "      <td>NaN</td>\n",
       "      <td>NaN</td>\n",
       "      <td>...</td>\n",
       "      <td>NaN</td>\n",
       "      <td>NaN</td>\n",
       "      <td>NaN</td>\n",
       "      <td>NaN</td>\n",
       "      <td>NaN</td>\n",
       "      <td>NaN</td>\n",
       "      <td>NaN</td>\n",
       "      <td>NaN</td>\n",
       "      <td>NaN</td>\n",
       "      <td>ORD</td>\n",
       "    </tr>\n",
       "    <tr>\n",
       "      <th>US1ILCK0148</th>\n",
       "      <td>OAK LAWN 1.9 SE, IL US</td>\n",
       "      <td>41.6936</td>\n",
       "      <td>-87.729</td>\n",
       "      <td>182.3</td>\n",
       "      <td>2015-03-11</td>\n",
       "      <td>NaN</td>\n",
       "      <td>NaN</td>\n",
       "      <td>NaN</td>\n",
       "      <td>NaN</td>\n",
       "      <td>NaN</td>\n",
       "      <td>...</td>\n",
       "      <td>NaN</td>\n",
       "      <td>NaN</td>\n",
       "      <td>NaN</td>\n",
       "      <td>NaN</td>\n",
       "      <td>NaN</td>\n",
       "      <td>NaN</td>\n",
       "      <td>NaN</td>\n",
       "      <td>NaN</td>\n",
       "      <td>NaN</td>\n",
       "      <td>ORD</td>\n",
       "    </tr>\n",
       "    <tr>\n",
       "      <th>US1ILCK0148</th>\n",
       "      <td>OAK LAWN 1.9 SE, IL US</td>\n",
       "      <td>41.6936</td>\n",
       "      <td>-87.729</td>\n",
       "      <td>182.3</td>\n",
       "      <td>2015-03-15</td>\n",
       "      <td>NaN</td>\n",
       "      <td>NaN</td>\n",
       "      <td>NaN</td>\n",
       "      <td>NaN</td>\n",
       "      <td>NaN</td>\n",
       "      <td>...</td>\n",
       "      <td>NaN</td>\n",
       "      <td>NaN</td>\n",
       "      <td>NaN</td>\n",
       "      <td>NaN</td>\n",
       "      <td>NaN</td>\n",
       "      <td>NaN</td>\n",
       "      <td>NaN</td>\n",
       "      <td>NaN</td>\n",
       "      <td>NaN</td>\n",
       "      <td>ORD</td>\n",
       "    </tr>\n",
       "    <tr>\n",
       "      <th>US1ILCK0148</th>\n",
       "      <td>OAK LAWN 1.9 SE, IL US</td>\n",
       "      <td>41.6936</td>\n",
       "      <td>-87.729</td>\n",
       "      <td>182.3</td>\n",
       "      <td>2015-03-25</td>\n",
       "      <td>NaN</td>\n",
       "      <td>NaN</td>\n",
       "      <td>NaN</td>\n",
       "      <td>NaN</td>\n",
       "      <td>NaN</td>\n",
       "      <td>...</td>\n",
       "      <td>NaN</td>\n",
       "      <td>NaN</td>\n",
       "      <td>NaN</td>\n",
       "      <td>NaN</td>\n",
       "      <td>NaN</td>\n",
       "      <td>NaN</td>\n",
       "      <td>NaN</td>\n",
       "      <td>NaN</td>\n",
       "      <td>NaN</td>\n",
       "      <td>ORD</td>\n",
       "    </tr>\n",
       "    <tr>\n",
       "      <th>US1ILCK0148</th>\n",
       "      <td>OAK LAWN 1.9 SE, IL US</td>\n",
       "      <td>41.6936</td>\n",
       "      <td>-87.729</td>\n",
       "      <td>182.3</td>\n",
       "      <td>2015-03-27</td>\n",
       "      <td>NaN</td>\n",
       "      <td>NaN</td>\n",
       "      <td>NaN</td>\n",
       "      <td>NaN</td>\n",
       "      <td>NaN</td>\n",
       "      <td>...</td>\n",
       "      <td>NaN</td>\n",
       "      <td>NaN</td>\n",
       "      <td>NaN</td>\n",
       "      <td>NaN</td>\n",
       "      <td>NaN</td>\n",
       "      <td>NaN</td>\n",
       "      <td>NaN</td>\n",
       "      <td>NaN</td>\n",
       "      <td>NaN</td>\n",
       "      <td>ORD</td>\n",
       "    </tr>\n",
       "  </tbody>\n",
       "</table>\n",
       "<p>5 rows × 84 columns</p>\n",
       "</div>"
      ],
      "text/plain": [
       "                               NAME  LATITUDE  LONGITUDE  ELEVATION  \\\n",
       "STATION                                                               \n",
       "US1ILCK0148  OAK LAWN 1.9 SE, IL US   41.6936    -87.729      182.3   \n",
       "US1ILCK0148  OAK LAWN 1.9 SE, IL US   41.6936    -87.729      182.3   \n",
       "US1ILCK0148  OAK LAWN 1.9 SE, IL US   41.6936    -87.729      182.3   \n",
       "US1ILCK0148  OAK LAWN 1.9 SE, IL US   41.6936    -87.729      182.3   \n",
       "US1ILCK0148  OAK LAWN 1.9 SE, IL US   41.6936    -87.729      182.3   \n",
       "\n",
       "                  DATE  AWND AWND_ATTRIBUTES  DAPR DAPR_ATTRIBUTES  EVAP  \\\n",
       "STATION                                                                    \n",
       "US1ILCK0148 2015-03-10   NaN             NaN   NaN             NaN   NaN   \n",
       "US1ILCK0148 2015-03-11   NaN             NaN   NaN             NaN   NaN   \n",
       "US1ILCK0148 2015-03-15   NaN             NaN   NaN             NaN   NaN   \n",
       "US1ILCK0148 2015-03-25   NaN             NaN   NaN             NaN   NaN   \n",
       "US1ILCK0148 2015-03-27   NaN             NaN   NaN             NaN   NaN   \n",
       "\n",
       "                  ...       WT06_ATTRIBUTES  WT08 WT08_ATTRIBUTES  WT09  \\\n",
       "STATION           ...                                                     \n",
       "US1ILCK0148       ...                   NaN   NaN             NaN   NaN   \n",
       "US1ILCK0148       ...                   NaN   NaN             NaN   NaN   \n",
       "US1ILCK0148       ...                   NaN   NaN             NaN   NaN   \n",
       "US1ILCK0148       ...                   NaN   NaN             NaN   NaN   \n",
       "US1ILCK0148       ...                   NaN   NaN             NaN   NaN   \n",
       "\n",
       "            WT09_ATTRIBUTES  WT10 WT10_ATTRIBUTES  WT11 WT11_ATTRIBUTES  \\\n",
       "STATION                                                                   \n",
       "US1ILCK0148             NaN   NaN             NaN   NaN             NaN   \n",
       "US1ILCK0148             NaN   NaN             NaN   NaN             NaN   \n",
       "US1ILCK0148             NaN   NaN             NaN   NaN             NaN   \n",
       "US1ILCK0148             NaN   NaN             NaN   NaN             NaN   \n",
       "US1ILCK0148             NaN   NaN             NaN   NaN             NaN   \n",
       "\n",
       "             ORIGIN_AIRPORT  \n",
       "STATION                      \n",
       "US1ILCK0148             ORD  \n",
       "US1ILCK0148             ORD  \n",
       "US1ILCK0148             ORD  \n",
       "US1ILCK0148             ORD  \n",
       "US1ILCK0148             ORD  \n",
       "\n",
       "[5 rows x 84 columns]"
      ]
     },
     "execution_count": 5,
     "metadata": {},
     "output_type": "execute_result"
    }
   ],
   "source": [
    "# weather data\n",
    "weather=pd.read_csv('weather.csv', low_memory=False, index_col=0)\n",
    "# convert weather date to datetime\n",
    "weather['DATE'] = pd.to_datetime(weather['DATE'])\n",
    "weather['ORIGIN_AIRPORT'] = np.where(weather['NAME'] == 'BOSTON, MA US', 'BOS', 'ORD')\n",
    "weather.head()"
   ]
  },
  {
   "cell_type": "code",
   "execution_count": 6,
   "metadata": {},
   "outputs": [
    {
     "data": {
      "text/html": [
       "<div>\n",
       "<style>\n",
       "    .dataframe thead tr:only-child th {\n",
       "        text-align: right;\n",
       "    }\n",
       "\n",
       "    .dataframe thead th {\n",
       "        text-align: left;\n",
       "    }\n",
       "\n",
       "    .dataframe tbody tr th {\n",
       "        vertical-align: top;\n",
       "    }\n",
       "</style>\n",
       "<table border=\"1\" class=\"dataframe\">\n",
       "  <thead>\n",
       "    <tr style=\"text-align: right;\">\n",
       "      <th></th>\n",
       "      <th>YEAR</th>\n",
       "      <th>DAY_OF_WEEK</th>\n",
       "      <th>AIRLINE</th>\n",
       "      <th>FLIGHT_NUMBER</th>\n",
       "      <th>TAIL_NUMBER</th>\n",
       "      <th>ORIGIN_AIRPORT</th>\n",
       "      <th>DESTINATION_AIRPORT</th>\n",
       "      <th>SCHEDULED_DEPARTURE</th>\n",
       "      <th>DEPARTURE_TIME</th>\n",
       "      <th>DEPARTURE_DELAY</th>\n",
       "      <th>...</th>\n",
       "      <th>WT06</th>\n",
       "      <th>WT06_ATTRIBUTES</th>\n",
       "      <th>WT08</th>\n",
       "      <th>WT08_ATTRIBUTES</th>\n",
       "      <th>WT09</th>\n",
       "      <th>WT09_ATTRIBUTES</th>\n",
       "      <th>WT10</th>\n",
       "      <th>WT10_ATTRIBUTES</th>\n",
       "      <th>WT11</th>\n",
       "      <th>WT11_ATTRIBUTES</th>\n",
       "    </tr>\n",
       "  </thead>\n",
       "  <tbody>\n",
       "    <tr>\n",
       "      <th>0</th>\n",
       "      <td>2015</td>\n",
       "      <td>4</td>\n",
       "      <td>B6</td>\n",
       "      <td>1012</td>\n",
       "      <td>N375JB</td>\n",
       "      <td>ORD</td>\n",
       "      <td>BOS</td>\n",
       "      <td>540</td>\n",
       "      <td>529.0</td>\n",
       "      <td>-11.0</td>\n",
       "      <td>...</td>\n",
       "      <td>NaN</td>\n",
       "      <td>NaN</td>\n",
       "      <td>NaN</td>\n",
       "      <td>NaN</td>\n",
       "      <td>NaN</td>\n",
       "      <td>NaN</td>\n",
       "      <td>NaN</td>\n",
       "      <td>NaN</td>\n",
       "      <td>NaN</td>\n",
       "      <td>NaN</td>\n",
       "    </tr>\n",
       "    <tr>\n",
       "      <th>1</th>\n",
       "      <td>2015</td>\n",
       "      <td>4</td>\n",
       "      <td>B6</td>\n",
       "      <td>1012</td>\n",
       "      <td>N375JB</td>\n",
       "      <td>ORD</td>\n",
       "      <td>BOS</td>\n",
       "      <td>540</td>\n",
       "      <td>529.0</td>\n",
       "      <td>-11.0</td>\n",
       "      <td>...</td>\n",
       "      <td>NaN</td>\n",
       "      <td>NaN</td>\n",
       "      <td>NaN</td>\n",
       "      <td>NaN</td>\n",
       "      <td>NaN</td>\n",
       "      <td>NaN</td>\n",
       "      <td>NaN</td>\n",
       "      <td>NaN</td>\n",
       "      <td>NaN</td>\n",
       "      <td>NaN</td>\n",
       "    </tr>\n",
       "    <tr>\n",
       "      <th>2</th>\n",
       "      <td>2015</td>\n",
       "      <td>4</td>\n",
       "      <td>B6</td>\n",
       "      <td>1012</td>\n",
       "      <td>N375JB</td>\n",
       "      <td>ORD</td>\n",
       "      <td>BOS</td>\n",
       "      <td>540</td>\n",
       "      <td>529.0</td>\n",
       "      <td>-11.0</td>\n",
       "      <td>...</td>\n",
       "      <td>NaN</td>\n",
       "      <td>NaN</td>\n",
       "      <td>NaN</td>\n",
       "      <td>NaN</td>\n",
       "      <td>NaN</td>\n",
       "      <td>NaN</td>\n",
       "      <td>NaN</td>\n",
       "      <td>NaN</td>\n",
       "      <td>NaN</td>\n",
       "      <td>NaN</td>\n",
       "    </tr>\n",
       "    <tr>\n",
       "      <th>3</th>\n",
       "      <td>2015</td>\n",
       "      <td>4</td>\n",
       "      <td>B6</td>\n",
       "      <td>1012</td>\n",
       "      <td>N375JB</td>\n",
       "      <td>ORD</td>\n",
       "      <td>BOS</td>\n",
       "      <td>540</td>\n",
       "      <td>529.0</td>\n",
       "      <td>-11.0</td>\n",
       "      <td>...</td>\n",
       "      <td>NaN</td>\n",
       "      <td>NaN</td>\n",
       "      <td>NaN</td>\n",
       "      <td>NaN</td>\n",
       "      <td>NaN</td>\n",
       "      <td>NaN</td>\n",
       "      <td>NaN</td>\n",
       "      <td>NaN</td>\n",
       "      <td>NaN</td>\n",
       "      <td>NaN</td>\n",
       "    </tr>\n",
       "    <tr>\n",
       "      <th>4</th>\n",
       "      <td>2015</td>\n",
       "      <td>4</td>\n",
       "      <td>B6</td>\n",
       "      <td>1012</td>\n",
       "      <td>N375JB</td>\n",
       "      <td>ORD</td>\n",
       "      <td>BOS</td>\n",
       "      <td>540</td>\n",
       "      <td>529.0</td>\n",
       "      <td>-11.0</td>\n",
       "      <td>...</td>\n",
       "      <td>NaN</td>\n",
       "      <td>NaN</td>\n",
       "      <td>NaN</td>\n",
       "      <td>NaN</td>\n",
       "      <td>NaN</td>\n",
       "      <td>NaN</td>\n",
       "      <td>NaN</td>\n",
       "      <td>NaN</td>\n",
       "      <td>NaN</td>\n",
       "      <td>NaN</td>\n",
       "    </tr>\n",
       "  </tbody>\n",
       "</table>\n",
       "<p>5 rows × 112 columns</p>\n",
       "</div>"
      ],
      "text/plain": [
       "   YEAR  DAY_OF_WEEK AIRLINE  FLIGHT_NUMBER TAIL_NUMBER ORIGIN_AIRPORT  \\\n",
       "0  2015            4      B6           1012      N375JB            ORD   \n",
       "1  2015            4      B6           1012      N375JB            ORD   \n",
       "2  2015            4      B6           1012      N375JB            ORD   \n",
       "3  2015            4      B6           1012      N375JB            ORD   \n",
       "4  2015            4      B6           1012      N375JB            ORD   \n",
       "\n",
       "  DESTINATION_AIRPORT  SCHEDULED_DEPARTURE  DEPARTURE_TIME  DEPARTURE_DELAY  \\\n",
       "0                 BOS                  540           529.0            -11.0   \n",
       "1                 BOS                  540           529.0            -11.0   \n",
       "2                 BOS                  540           529.0            -11.0   \n",
       "3                 BOS                  540           529.0            -11.0   \n",
       "4                 BOS                  540           529.0            -11.0   \n",
       "\n",
       "        ...         WT06  WT06_ATTRIBUTES  WT08  WT08_ATTRIBUTES  WT09  \\\n",
       "0       ...          NaN              NaN   NaN              NaN   NaN   \n",
       "1       ...          NaN              NaN   NaN              NaN   NaN   \n",
       "2       ...          NaN              NaN   NaN              NaN   NaN   \n",
       "3       ...          NaN              NaN   NaN              NaN   NaN   \n",
       "4       ...          NaN              NaN   NaN              NaN   NaN   \n",
       "\n",
       "   WT09_ATTRIBUTES  WT10  WT10_ATTRIBUTES  WT11  WT11_ATTRIBUTES  \n",
       "0              NaN   NaN              NaN   NaN              NaN  \n",
       "1              NaN   NaN              NaN   NaN              NaN  \n",
       "2              NaN   NaN              NaN   NaN              NaN  \n",
       "3              NaN   NaN              NaN   NaN              NaN  \n",
       "4              NaN   NaN              NaN   NaN              NaN  \n",
       "\n",
       "[5 rows x 112 columns]"
      ]
     },
     "execution_count": 6,
     "metadata": {},
     "output_type": "execute_result"
    }
   ],
   "source": [
    "# merge the data together \n",
    "w_f = flights_clean.merge(weather, how = 'inner', on = ['DATE', 'ORIGIN_AIRPORT'])\n",
    "w_f.head()"
   ]
  },
  {
   "cell_type": "code",
   "execution_count": 7,
   "metadata": {
    "collapsed": true
   },
   "outputs": [],
   "source": [
    "ohare_boston = w_f['NAME'].isin(['CHICAGO OHARE INTERNATIONAL AIRPORT, IL US', 'BOSTON, MA US'])\n",
    "w_f = w_f[ohare_boston]\n",
    "w_f = w_f.dropna(axis=1, how='all')\n",
    "w_f.reset_index()\n",
    "\n",
    "# deleted unnecessary columns - all that deleted had over half the data missing \n",
    "w_f = w_f.dropna(axis=1, how='any')\n",
    "\n",
    "# utilize function to make unique ids to delete duplicates\n",
    "def make_identifier(df):\n",
    "    str_id = df.apply(lambda x: '_'.join(map(str, x)), axis=1)\n",
    "    return pd.factorize(str_id)[0]\n",
    "\n",
    "w_f['combined_id'] = make_identifier(w_f[['DATE','DEPARTURE_TIME', 'TAIL_NUMBER']])\n",
    "# drop duplicates \n",
    "w_f = w_f.drop_duplicates(subset=['combined_id'], keep='first')\n",
    "w_f = w_f.reset_index()"
   ]
  },
  {
   "cell_type": "code",
   "execution_count": 8,
   "metadata": {
    "collapsed": true
   },
   "outputs": [],
   "source": [
    "import scipy.stats as stats\n",
    "import pylab\n",
    "\n",
    "# check departure delay for extreme values\n",
    "w_f.DEPARTURE_DELAY.sort_values()\n",
    "# delete extreme values\n",
    "w_f = w_f.drop(w_f[w_f['DEPARTURE_DELAY'] > 460].index)"
   ]
  },
  {
   "cell_type": "code",
   "execution_count": 9,
   "metadata": {},
   "outputs": [
    {
     "name": "stdout",
     "output_type": "stream",
     "text": [
      "1    6467\n",
      "0    6273\n",
      "Name: DELAY, dtype: int64\n"
     ]
    }
   ],
   "source": [
    "# create new variable to identify whether a delay occured or not and if it was departure or arrival\n",
    "w_f.is_copy = False\n",
    "w_f['AD_TAG'] = w_f.ARRIVAL_DELAY.map( lambda x: 1 if x > 0 else 0)\n",
    "w_f['DD_TAG'] = w_f.DEPARTURE_DELAY.map( lambda x: 1 if x > 0 else 0)\n",
    "# create a variable for delay \n",
    "w_f['DELAY'] = np.where(w_f['DD_TAG']==1, 1, (np.where(w_f['AD_TAG']==1, 1, 0)))\n",
    "# count delay vs. non delay\n",
    "print(w_f['DELAY'].value_counts())"
   ]
  },
  {
   "cell_type": "markdown",
   "metadata": {},
   "source": [
    "# EDA and Inferential Statistics"
   ]
  },
  {
   "cell_type": "code",
   "execution_count": 10,
   "metadata": {},
   "outputs": [
    {
     "data": {
      "image/png": "[encoded data removed]",
      "text/plain": [
       "<matplotlib.figure.Figure at 0x11e9d95f8>"
      ]
     },
     "metadata": {},
     "output_type": "display_data"
    },
    {
     "name": "stdout",
     "output_type": "stream",
     "text": [
      "ORD    6374\n",
      "BOS    6366\n",
      "Name: ORIGIN_AIRPORT, dtype: int64\n",
      "BOS    6374\n",
      "ORD    6366\n",
      "Name: DESTINATION_AIRPORT, dtype: int64\n"
     ]
    }
   ],
   "source": [
    "# Initial exploration\n",
    "\n",
    "# Counts of each airline\n",
    "w_f['AIRLINE'].value_counts().plot(kind='barh')\n",
    "plt.show()\n",
    "# count of boston vs. chicago departures\n",
    "print(w_f['ORIGIN_AIRPORT'].value_counts())\n",
    "# count of boston vs. chicago arrivals\n",
    "print(w_f['DESTINATION_AIRPORT'].value_counts())"
   ]
  },
  {
   "cell_type": "markdown",
   "metadata": {
    "collapsed": true
   },
   "source": [
    "There are 5 airlines that run between Chicago and Boston in this dataset. American Airlines has the highest count of ~5800 flights while Spirit Airlines has the lowest count of ~300. \n",
    "\n",
    "Confirms that there are about equal amounts of Boston and Chicago departues and arrivals. "
   ]
  },
  {
   "cell_type": "code",
   "execution_count": 11,
   "metadata": {},
   "outputs": [
    {
     "name": "stdout",
     "output_type": "stream",
     "text": [
      "DAY AA:\n",
      "0    3357\n",
      "1    2387\n",
      "Name: DELAY, dtype: int64\n",
      "Axes(0.125,0.125;0.775x0.755)\n"
     ]
    },
    {
     "data": {
      "image/png": "[encoded data removed]",
      "text/plain": [
       "<matplotlib.figure.Figure at 0x114ec5c88>"
      ]
     },
     "metadata": {},
     "output_type": "display_data"
    },
    {
     "name": "stdout",
     "output_type": "stream",
     "text": [
      "DAY B6:\n",
      "1    974\n",
      "0    933\n",
      "Name: DELAY, dtype: int64\n",
      "Axes(0.125,0.125;0.775x0.755)\n"
     ]
    },
    {
     "data": {
      "image/png": "[encoded data removed]",
      "text/plain": [
       "<matplotlib.figure.Figure at 0x10a3eb048>"
      ]
     },
     "metadata": {},
     "output_type": "display_data"
    },
    {
     "name": "stdout",
     "output_type": "stream",
     "text": [
      "DAY NK:\n",
      "1    241\n",
      "0    111\n",
      "Name: DELAY, dtype: int64\n",
      "Axes(0.125,0.125;0.775x0.755)\n"
     ]
    },
    {
     "data": {
      "image/png": "[encoded data removed]",
      "text/plain": [
       "<matplotlib.figure.Figure at 0x116cbe9b0>"
      ]
     },
     "metadata": {},
     "output_type": "display_data"
    },
    {
     "name": "stdout",
     "output_type": "stream",
     "text": [
      "DAY OO:\n",
      "1    287\n",
      "0    216\n",
      "Name: DELAY, dtype: int64\n",
      "Axes(0.125,0.125;0.775x0.755)\n"
     ]
    },
    {
     "data": {
      "image/png": "[encoded data removed]",
      "text/plain": [
       "<matplotlib.figure.Figure at 0x114e65eb8>"
      ]
     },
     "metadata": {},
     "output_type": "display_data"
    },
    {
     "name": "stdout",
     "output_type": "stream",
     "text": [
      "DAY UA:\n",
      "1    2578\n",
      "0    1656\n",
      "Name: DELAY, dtype: int64\n",
      "Axes(0.125,0.125;0.775x0.755)\n"
     ]
    },
    {
     "data": {
      "image/png": "[encoded data removed]",
      "text/plain": [
       "<matplotlib.figure.Figure at 0x1168a82e8>"
      ]
     },
     "metadata": {},
     "output_type": "display_data"
    }
   ],
   "source": [
    "# how many delays are there each day of the week?\n",
    "airline_group = w_f.groupby('AIRLINE')\n",
    "for name, group in airline_group:\n",
    "    print(\"DAY {}:\".format(name))\n",
    "    print(group.DELAY.value_counts())\n",
    "    print(group.DELAY.value_counts().plot(kind='barh'))\n",
    "    plt.show()"
   ]
  },
  {
   "cell_type": "code",
   "execution_count": 13,
   "metadata": {},
   "outputs": [
    {
     "name": "stdout",
     "output_type": "stream",
     "text": [
      "0.4155640668523677\n",
      "0.6088804912612187\n",
      "[-0.23150543728401984, -0.15512741153368215]\n"
     ]
    },
    {
     "data": {
      "text/plain": [
       "(11.350564653767691, 7.3685302741049892e-30)"
      ]
     },
     "execution_count": 13,
     "metadata": {},
     "output_type": "execute_result"
    }
   ],
   "source": [
    "# comparing proportion of delays between American and United\n",
    "# determine sample sizes\n",
    "american = w_f[w_f.AIRLINE=='AA']\n",
    "other = w_f[w_f.AIRLINE=='UA']\n",
    "american_size = len(american)\n",
    "other_size = len(other)\n",
    "\n",
    "# determine number of delays\n",
    "delay_a = len(american[american.DELAY == 1])\n",
    "delay_o = len(other[other.DELAY == 1])\n",
    "\n",
    "# determine proportion of delays\n",
    "prop_delay_a = delay_a/american_size\n",
    "prop_delay_o = delay_o/other_size\n",
    "print(prop_delay_a)\n",
    "print(prop_delay_o)\n",
    "\n",
    "\n",
    "\"\"\"\n",
    "Ho: prop_delay_a=prop_delay_o\n",
    "Ha: prop_delay_a!=prop_delay_o\n",
    "\"\"\"\n",
    "\n",
    "import math\n",
    "# compute margin\n",
    "margin = 1.96 * math.sqrt( ( prop_delay_a*(1-prop_delay_a) / other_size) + \n",
    "                          (prop_delay_o*(1-prop_delay_o)/ american_size) )\n",
    "\n",
    "# compute confidence interval for difference in proportion \n",
    "confidence_int= [prop_delay_a-prop_delay_o-1.96*margin,prop_delay_a-prop_delay_o+1.96*margin]\n",
    "print(confidence_int)\n",
    "\n",
    "# proportions ztest\n",
    "from statsmodels.stats.proportion import proportions_ztest as pz\n",
    "pz(np.array([delay_a,delay_o]),np.array([other_size,american_size]),value=0)"
   ]
  },
  {
   "cell_type": "markdown",
   "metadata": {},
   "source": [
    "P-value of 0, reject null hypothesis that proportion of delays is the same between American and United. United has more. We are the 95% that the difference in proportions is between -.232 and -.155. "
   ]
  },
  {
   "cell_type": "code",
   "execution_count": 380,
   "metadata": {},
   "outputs": [
    {
     "data": {
      "text/plain": [
       "ORD    6378\n",
       "BOS    6368\n",
       "Name: ORIGIN_AIRPORT, dtype: int64"
      ]
     },
     "execution_count": 380,
     "metadata": {},
     "output_type": "execute_result"
    }
   ],
   "source": [
    "# refer back to original flights_clean dataset - 2923 Delays had atleast one reason documented \n",
    "flights_clean\n",
    "# will identify frequency of those reasons below\n",
    "flights_clean.ORIGIN_AIRPORT.value_counts()"
   ]
  },
  {
   "cell_type": "code",
   "execution_count": 381,
   "metadata": {},
   "outputs": [
    {
     "name": "stdout",
     "output_type": "stream",
     "text": [
      "Weather:229 Aircraft:1410 Airline:1392 Security:3 Air System:1736\n"
     ]
    }
   ],
   "source": [
    "# how many weather delays did the dataset originally account for - multiple types can occur at once\n",
    "weather = flights_clean.dropna(subset=['WEATHER_DELAY'])\n",
    "x = weather.WEATHER_DELAY.count()\n",
    "weather.WEATHER_DELAY.value_counts()\n",
    "# found count at 0 and subtracted from total\n",
    "count_1 = x - 2694\n",
    "\n",
    "# how many late aircraft delays did the dataset originally account for - multiple types can occur at once\n",
    "late = flights_clean.dropna(subset=['LATE_AIRCRAFT_DELAY'])\n",
    "x = late.LATE_AIRCRAFT_DELAY.count()\n",
    "late.LATE_AIRCRAFT_DELAY.value_counts()\n",
    "# found count at 0 and subtracted from total\n",
    "count_2 = x - 1513\n",
    "\n",
    "# how many airline delays did the dataset originally account for - multiple types can occur at once\n",
    "airline = flights_clean.dropna(subset=['AIRLINE_DELAY'])\n",
    "x = airline.AIRLINE_DELAY.count()\n",
    "airline.AIRLINE_DELAY.value_counts()\n",
    "# found count at 0 and subtracted from total\n",
    "count_3 = x - 1531\n",
    "\n",
    "# how many security delays did the dataset originally account for - multiple types can occur at once\n",
    "security = flights_clean.dropna(subset=['SECURITY_DELAY'])\n",
    "x = security.SECURITY_DELAY.count()\n",
    "security.SECURITY_DELAY.value_counts()\n",
    "# found count at 0 and subtracted from total\n",
    "count_4 = x - 2920\n",
    "\n",
    "# how many air system delays did the dataset originally account for - multiple types can occur at once\n",
    "system = flights_clean.dropna(subset=['AIR_SYSTEM_DELAY'])\n",
    "x = system.AIR_SYSTEM_DELAY.count()\n",
    "system.AIR_SYSTEM_DELAY.value_counts()\n",
    "# found count at 0 and subtracted from total\n",
    "count_5 = x - 1187\n",
    "\n",
    "print(\"Weather:{}\".format(count_1),\n",
    "     \"Aircraft:{}\".format(count_2),\n",
    "     \"Airline:{}\".format(count_3),\n",
    "     \"Security:{}\".format(count_4),\n",
    "     \"Air System:{}\".format(count_5))"
   ]
  },
  {
   "cell_type": "markdown",
   "metadata": {},
   "source": [
    "Air System was the highest, while security was the lowest. Weather was a lot lower than expected at only 229 of the\n",
    "2923 delays (that had reasons documented)."
   ]
  },
  {
   "cell_type": "code",
   "execution_count": 382,
   "metadata": {},
   "outputs": [
    {
     "data": {
      "text/plain": [
       "3750"
      ]
     },
     "execution_count": 382,
     "metadata": {},
     "output_type": "execute_result"
    }
   ],
   "source": [
    "# how many have an arrival and departure delay\n",
    "d_d = w_f['DD_TAG']==1\n",
    "a_d = w_f['AD_TAG']==1\n",
    "both = w_f[a_d & d_d]\n",
    "both['DD_TAG'].count()"
   ]
  },
  {
   "cell_type": "code",
   "execution_count": 383,
   "metadata": {},
   "outputs": [
    {
     "data": {
      "text/plain": [
       "1587"
      ]
     },
     "execution_count": 383,
     "metadata": {},
     "output_type": "execute_result"
    }
   ],
   "source": [
    "# how many only have a departure delay\n",
    "d_d = w_f['DD_TAG']==1\n",
    "no_ad = w_f['AD_TAG']==0\n",
    "d_only = w_f[d_d & no_ad]\n",
    "d_only['DD_TAG'].count()"
   ]
  },
  {
   "cell_type": "code",
   "execution_count": 384,
   "metadata": {},
   "outputs": [
    {
     "data": {
      "text/plain": [
       "1130"
      ]
     },
     "execution_count": 384,
     "metadata": {},
     "output_type": "execute_result"
    }
   ],
   "source": [
    "# how many only have an arrival delay\n",
    "no_dd = w_f['DD_TAG']==0\n",
    "only_ad = w_f['AD_TAG']==1\n",
    "d_only = w_f[no_dd & only_ad]\n",
    "d_only['AD_TAG'].count()"
   ]
  },
  {
   "cell_type": "code",
   "execution_count": 385,
   "metadata": {},
   "outputs": [
    {
     "name": "stdout",
     "output_type": "stream",
     "text": [
      "DAY 1:\n",
      "1    952\n",
      "0    926\n",
      "Name: DELAY, dtype: int64\n",
      "Axes(0.125,0.125;0.775x0.755)\n"
     ]
    },
    {
     "data": {
      "image/png": "[encoded data removed]",
      "text/plain": [
       "<matplotlib.figure.Figure at 0x1a06b7c50>"
      ]
     },
     "metadata": {},
     "output_type": "display_data"
    },
    {
     "name": "stdout",
     "output_type": "stream",
     "text": [
      "DAY 2:\n",
      "1    1017\n",
      "0     909\n",
      "Name: DELAY, dtype: int64\n",
      "Axes(0.125,0.125;0.775x0.755)\n"
     ]
    },
    {
     "data": {
      "image/png": "[encoded data removed]",
      "text/plain": [
       "<matplotlib.figure.Figure at 0x1a05ab3c8>"
      ]
     },
     "metadata": {},
     "output_type": "display_data"
    },
    {
     "name": "stdout",
     "output_type": "stream",
     "text": [
      "DAY 3:\n",
      "1    1008\n",
      "0     971\n",
      "Name: DELAY, dtype: int64\n",
      "Axes(0.125,0.125;0.775x0.755)\n"
     ]
    },
    {
     "data": {
      "image/png": "[encoded data removed]",
      "text/plain": [
       "<matplotlib.figure.Figure at 0x1a055e128>"
      ]
     },
     "metadata": {},
     "output_type": "display_data"
    },
    {
     "name": "stdout",
     "output_type": "stream",
     "text": [
      "DAY 4:\n",
      "1    1037\n",
      "0     896\n",
      "Name: DELAY, dtype: int64\n",
      "Axes(0.125,0.125;0.775x0.755)\n"
     ]
    },
    {
     "data": {
      "image/png": "[encoded data removed]",
      "text/plain": [
       "<matplotlib.figure.Figure at 0x1a1c9d518>"
      ]
     },
     "metadata": {},
     "output_type": "display_data"
    },
    {
     "name": "stdout",
     "output_type": "stream",
     "text": [
      "DAY 5:\n",
      "1    986\n",
      "0    931\n",
      "Name: DELAY, dtype: int64\n",
      "Axes(0.125,0.125;0.775x0.755)\n"
     ]
    },
    {
     "data": {
      "image/png": "[encoded data removed]",
      "text/plain": [
       "<matplotlib.figure.Figure at 0x1855070b8>"
      ]
     },
     "metadata": {},
     "output_type": "display_data"
    },
    {
     "name": "stdout",
     "output_type": "stream",
     "text": [
      "DAY 6:\n",
      "0    773\n",
      "1    582\n",
      "Name: DELAY, dtype: int64\n",
      "Axes(0.125,0.125;0.775x0.755)\n"
     ]
    },
    {
     "data": {
      "image/png": "[encoded data removed]",
      "text/plain": [
       "<matplotlib.figure.Figure at 0x18542ae48>"
      ]
     },
     "metadata": {},
     "output_type": "display_data"
    },
    {
     "name": "stdout",
     "output_type": "stream",
     "text": [
      "DAY 7:\n",
      "1    885\n",
      "0    867\n",
      "Name: DELAY, dtype: int64\n",
      "Axes(0.125,0.125;0.775x0.755)\n"
     ]
    },
    {
     "data": {
      "image/png": "[encoded data removed]",
      "text/plain": [
       "<matplotlib.figure.Figure at 0x1a85d9fd0>"
      ]
     },
     "metadata": {},
     "output_type": "display_data"
    }
   ],
   "source": [
    "# how many delays are there each day of the week?\n",
    "week_group = w_f.groupby('DAY_OF_WEEK')\n",
    "for name, group in week_group:\n",
    "    print(\"DAY {}:\".format(name))\n",
    "    print(group.DELAY.value_counts())\n",
    "    print(group.DELAY.value_counts().plot(kind='barh'))\n",
    "    plt.show()"
   ]
  },
  {
   "cell_type": "code",
   "execution_count": 15,
   "metadata": {
    "collapsed": true
   },
   "outputs": [],
   "source": [
    "# identify each season\n",
    "w_f['SEASON'] = np.where((w_f['DATE'] >= '2015-01-01') & (w_f['DATE'] < '2015-03-21'), 'Winter', \n",
    "                np.where((w_f['DATE'] >= '2015-03-21') & (w_f['DATE'] < '2015-06-21'), 'Spring', \n",
    "                np.where((w_f['DATE'] >= '2015-06-21') & (w_f['DATE'] < '2015-09-22'), 'Summer',\n",
    "                np.where((w_f['DATE'] >= '2015-09-22') & (w_f['DATE'] < '2015-12-21'), 'Fall', 'Winter'))))    \n",
    "                         "
   ]
  },
  {
   "cell_type": "code",
   "execution_count": 16,
   "metadata": {},
   "outputs": [
    {
     "data": {
      "text/plain": [
       "Summer    4162\n",
       "Spring    3703\n",
       "Winter    2574\n",
       "Fall      2301\n",
       "Name: SEASON, dtype: int64"
      ]
     },
     "execution_count": 16,
     "metadata": {},
     "output_type": "execute_result"
    }
   ],
   "source": [
    "# frequency of flights each season\n",
    "w_f.SEASON.value_counts()"
   ]
  },
  {
   "cell_type": "code",
   "execution_count": 17,
   "metadata": {},
   "outputs": [
    {
     "name": "stdout",
     "output_type": "stream",
     "text": [
      "Season Fall:\n",
      "0    1485\n",
      "1     816\n",
      "Name: DELAY, dtype: int64\n",
      "Axes(0.125,0.125;0.775x0.755)\n"
     ]
    },
    {
     "data": {
      "image/png": "[encoded data removed]",
      "text/plain": [
       "<matplotlib.figure.Figure at 0x116b6fe80>"
      ]
     },
     "metadata": {},
     "output_type": "display_data"
    },
    {
     "name": "stdout",
     "output_type": "stream",
     "text": [
      "Season Spring:\n",
      "1    1883\n",
      "0    1820\n",
      "Name: DELAY, dtype: int64\n",
      "Axes(0.125,0.125;0.775x0.755)\n"
     ]
    },
    {
     "data": {
      "image/png": "[encoded data removed]",
      "text/plain": [
       "<matplotlib.figure.Figure at 0x1184cb748>"
      ]
     },
     "metadata": {},
     "output_type": "display_data"
    },
    {
     "name": "stdout",
     "output_type": "stream",
     "text": [
      "Season Summer:\n",
      "1    2169\n",
      "0    1993\n",
      "Name: DELAY, dtype: int64\n",
      "Axes(0.125,0.125;0.775x0.755)\n"
     ]
    },
    {
     "data": {
      "image/png": "[encoded data removed]",
      "text/plain": [
       "<matplotlib.figure.Figure at 0x11e2f1c18>"
      ]
     },
     "metadata": {},
     "output_type": "display_data"
    },
    {
     "name": "stdout",
     "output_type": "stream",
     "text": [
      "Season Winter:\n",
      "1    1599\n",
      "0     975\n",
      "Name: DELAY, dtype: int64\n",
      "Axes(0.125,0.125;0.775x0.755)\n"
     ]
    },
    {
     "data": {
      "image/png": "[encoded data removed]",
      "text/plain": [
       "<matplotlib.figure.Figure at 0x117771a90>"
      ]
     },
     "metadata": {},
     "output_type": "display_data"
    }
   ],
   "source": [
    "# how many delays are there each season?\n",
    "season_group = w_f.groupby('SEASON')\n",
    "for name, group in season_group :\n",
    "    print(\"Season {}:\".format(name))\n",
    "    print(group.DELAY.value_counts())\n",
    "    print(group.DELAY.value_counts().plot(kind='barh'))\n",
    "    plt.show()\n"
   ]
  },
  {
   "cell_type": "code",
   "execution_count": 21,
   "metadata": {},
   "outputs": [
    {
     "name": "stdout",
     "output_type": "stream",
     "text": [
      "0.6212121212121212\n",
      "0.5211436809226333\n"
     ]
    }
   ],
   "source": [
    "# does season have a statistically significant effect on the amount of delays?\n",
    "\n",
    "# summer vs. winter\n",
    "winter = w_f[w_f.SEASON=='Winter']\n",
    "other = w_f[w_f.SEASON=='Summer']\n",
    "winter_size = len(winter)\n",
    "other_size = len(other)\n",
    "\n",
    "# determine number of delays\n",
    "delay_w = len(winter[winter.DELAY == 1])\n",
    "delay_o = len(other[other.DELAY == 1])\n",
    "\n",
    "# determine proportion of delays\n",
    "prop_delay_w = delay_w/winter_size\n",
    "prop_delay_o = delay_o/other_size\n",
    "print(prop_delay_w)\n",
    "print(prop_delay_o)"
   ]
  },
  {
   "cell_type": "markdown",
   "metadata": {},
   "source": [
    "Hypothesis:\n",
    "\n",
    "Ho: prop_delay_s=prop_delay_o\n",
    "Ha: prop_delay_s!=prop_delay_o"
   ]
  },
  {
   "cell_type": "code",
   "execution_count": 22,
   "metadata": {},
   "outputs": [
    {
     "name": "stdout",
     "output_type": "stream",
     "text": [
      "[0.05247466474017054, 0.1476622158388053]\n"
     ]
    },
    {
     "data": {
      "text/plain": [
       "(-36.827910671099801, 6.6027558761941656e-297)"
      ]
     },
     "execution_count": 22,
     "metadata": {},
     "output_type": "execute_result"
    }
   ],
   "source": [
    "import math\n",
    "# compute margin\n",
    "margin = 1.96 * math.sqrt( ( prop_delay_w*(1-prop_delay_w) / other_size) + \n",
    "                          (prop_delay_o*(1-prop_delay_o)/ winter_size) )\n",
    "\n",
    "# compute confidence interval for difference in proportion \n",
    "confidence_int= [prop_delay_w-prop_delay_o-1.96*margin,prop_delay_w-prop_delay_o+1.96*margin]\n",
    "print(confidence_int)\n",
    "\n",
    "# proportions ztest\n",
    "from statsmodels.stats.proportion import proportions_ztest as pz\n",
    "pz(np.array([delay_w,delay_o]),np.array([other_size,winter_size]),value=0)"
   ]
  },
  {
   "cell_type": "markdown",
   "metadata": {},
   "source": [
    "P-value of 0, reject null hypothesis that proportion of delays is the same between summer and winter. Winter has more. 95% confident that the difference in proportions is between .052 and .148. "
   ]
  },
  {
   "cell_type": "code",
   "execution_count": 23,
   "metadata": {},
   "outputs": [
    {
     "name": "stdout",
     "output_type": "stream",
     "text": [
      "0.6212121212121212\n",
      "0.3546284224250326\n",
      "[0.213466975074191, 0.3197004224999862]\n"
     ]
    },
    {
     "data": {
      "text/plain": [
       "(26.345075048700568, 5.8446179195098188e-153)"
      ]
     },
     "execution_count": 23,
     "metadata": {},
     "output_type": "execute_result"
    }
   ],
   "source": [
    "# summer vs. winter\n",
    "winter = w_f[w_f.SEASON=='Winter']\n",
    "other = w_f[w_f.SEASON=='Fall']\n",
    "winter_size = len(winter)\n",
    "other_size = len(other)\n",
    "\n",
    "# determine number of delays\n",
    "delay_w = len(winter[winter.DELAY == 1])\n",
    "delay_o = len(other[other.DELAY == 1])\n",
    "\n",
    "# determine proportion of delays\n",
    "prop_delay_w = delay_w/winter_size\n",
    "prop_delay_o = delay_o/other_size\n",
    "print(prop_delay_w)\n",
    "print(prop_delay_o)\n",
    "\n",
    "\"\"\"Hypothesis:\n",
    "\n",
    "Ho: prop_delay_s=prop_delay_o\n",
    "Ha: prop_delay_s!=prop_delay_o\"\"\"\n",
    "\n",
    "import math\n",
    "# compute margin\n",
    "margin = 1.96 * math.sqrt( ( prop_delay_w*(1-prop_delay_w) / other_size) + \n",
    "                          (prop_delay_o*(1-prop_delay_o)/ winter_size) )\n",
    "\n",
    "# compute confidence interval for difference in proportion \n",
    "confidence_int= [prop_delay_w-prop_delay_o-1.96*margin,prop_delay_w-prop_delay_o+1.96*margin]\n",
    "print(confidence_int)\n",
    "\n",
    "# proportions ztest\n",
    "from statsmodels.stats.proportion import proportions_ztest as pz\n",
    "pz(np.array([delay_w,delay_o]),np.array([other_size,winter_size]),value=0)"
   ]
  },
  {
   "cell_type": "markdown",
   "metadata": {},
   "source": [
    "P-value of 0, reject null hypothesis that proportion of delays is the same between winter and fall. Winter has more. 95% confident that the difference in proportions is between .21 and .31. "
   ]
  },
  {
   "cell_type": "code",
   "execution_count": 24,
   "metadata": {},
   "outputs": [
    {
     "name": "stdout",
     "output_type": "stream",
     "text": [
      "0.6212121212121212\n",
      "0.5085066162570888\n",
      "[0.06401527223230782, 0.16139573767775697]\n"
     ]
    },
    {
     "data": {
      "text/plain": [
       "(-23.501099591131105, 3.9745013914199538e-122)"
      ]
     },
     "execution_count": 24,
     "metadata": {},
     "output_type": "execute_result"
    }
   ],
   "source": [
    "# summer vs. winter\n",
    "winter = w_f[w_f.SEASON=='Winter']\n",
    "other = w_f[w_f.SEASON=='Spring']\n",
    "winter_size = len(winter)\n",
    "other_size = len(other)\n",
    "\n",
    "# determine number of delays\n",
    "delay_w = len(winter[winter.DELAY == 1])\n",
    "delay_o = len(other[other.DELAY == 1])\n",
    "\n",
    "# determine proportion of delays\n",
    "prop_delay_w = delay_w/winter_size\n",
    "prop_delay_o = delay_o/other_size\n",
    "print(prop_delay_w)\n",
    "print(prop_delay_o)\n",
    "\n",
    "\"\"\"Hypothesis:\n",
    "\n",
    "Ho: prop_delay_s=prop_delay_o\n",
    "Ha: prop_delay_s!=prop_delay_o\"\"\"\n",
    "\n",
    "import math\n",
    "# compute margin\n",
    "margin = 1.96 * math.sqrt( ( prop_delay_w*(1-prop_delay_w) / other_size) + \n",
    "                          (prop_delay_o*(1-prop_delay_o)/ winter_size) )\n",
    "\n",
    "# compute confidence interval for difference in proportion \n",
    "confidence_int= [prop_delay_w-prop_delay_o-1.96*margin,prop_delay_w-prop_delay_o+1.96*margin]\n",
    "print(confidence_int)\n",
    "\n",
    "# proportions ztest\n",
    "from statsmodels.stats.proportion import proportions_ztest as pz\n",
    "pz(np.array([delay_w,delay_o]),np.array([other_size,winter_size]),value=0)"
   ]
  },
  {
   "cell_type": "markdown",
   "metadata": {},
   "source": [
    "P-value of 0, reject null hypothesis that proportion of delays is the same between winter and spring. Winter has more delays. 95% confident that difference in proportions is between .06 and .16.\n",
    "\n",
    "Safe to say from this analysis that winter does have the highest proportion of delays. "
   ]
  },
  {
   "cell_type": "code",
   "execution_count": 393,
   "metadata": {},
   "outputs": [
    {
     "name": "stdout",
     "output_type": "stream",
     "text": [
      "6374\n",
      "6366\n",
      "3288\n",
      "3179\n"
     ]
    }
   ],
   "source": [
    "# does airport have a significant effect on delays?\n",
    "\n",
    "# determine sample sizes again\n",
    "ord_orig = w_f[w_f.ORIGIN_AIRPORT=='ORD']\n",
    "bos_orig = w_f[w_f.ORIGIN_AIRPORT=='BOS']\n",
    "ord_size = len(ord_orig)\n",
    "bos_size = len(bos_orig)\n",
    "print(ord_size)\n",
    "print(bos_size)\n",
    "\n",
    "# determine number of delays again \n",
    "delay_o = len(ord_orig[ord_orig.DELAY == 1])\n",
    "delay_b = len(bos_orig[bos_orig.DELAY == 1])\n",
    "print(delay_o)\n",
    "print(delay_b)"
   ]
  },
  {
   "cell_type": "code",
   "execution_count": 394,
   "metadata": {},
   "outputs": [
    {
     "name": "stdout",
     "output_type": "stream",
     "text": [
      "0.5158456228427989\n",
      "0.4993716619541313\n"
     ]
    }
   ],
   "source": [
    "# determine proportion of delays\n",
    "prop_delay_o = delay_o/ord_size\n",
    "prop_delay_b = delay_b/bos_size\n",
    "print(prop_delay_o)\n",
    "print(prop_delay_b)"
   ]
  },
  {
   "cell_type": "markdown",
   "metadata": {},
   "source": [
    "Hypothesis:\n",
    "\n",
    "Ho: prop_delay_o=prop_delay_b\n",
    "Ha: prop_delay_o!=prop_delay_b"
   ]
  },
  {
   "cell_type": "code",
   "execution_count": 395,
   "metadata": {},
   "outputs": [
    {
     "name": "stdout",
     "output_type": "stream",
     "text": [
      "[-0.017552611449394073, 0.05050053322672926]\n"
     ]
    },
    {
     "data": {
      "text/plain": [
       "(2.0035869948090332, 0.045114320125785611)"
      ]
     },
     "execution_count": 395,
     "metadata": {},
     "output_type": "execute_result"
    }
   ],
   "source": [
    "import math\n",
    "# compute margin\n",
    "margin = 1.96 * math.sqrt( ( prop_delay_o*(1-prop_delay_o) / bos_size) + \n",
    "                          (prop_delay_b*(1-prop_delay_b)/ ord_size) )\n",
    "\n",
    "# compute confidence interval for difference in proportion \n",
    "confidence_int= [prop_delay_o-prop_delay_b-1.96*margin,prop_delay_o-prop_delay_b+1.96*margin]\n",
    "print(confidence_int)\n",
    "\n",
    "# proportions ztest\n",
    "from statsmodels.stats.proportion import proportions_ztest as pz\n",
    "pz(np.array([delay_o,delay_b]),np.array([bos_size,ord_size]),value=0)"
   ]
  },
  {
   "cell_type": "markdown",
   "metadata": {},
   "source": [
    "p-value low enough to reject null hypothesis, there is a slight difference in proportion of delays. Much more likely that Ohare will have more as confidence interval is -.01 to .05.  "
   ]
  },
  {
   "cell_type": "markdown",
   "metadata": {},
   "source": [
    "# Machine Learning"
   ]
  },
  {
   "cell_type": "markdown",
   "metadata": {},
   "source": [
    "## Data Prep"
   ]
  },
  {
   "cell_type": "code",
   "execution_count": 405,
   "metadata": {
    "collapsed": true
   },
   "outputs": [],
   "source": [
    "# normalize continuous variables used in Logistic Regression\n",
    "from sklearn import preprocessing\n",
    "\n",
    "w_f['SNOW'].fillna((w_f['SNOW'].mean()), inplace=True)\n",
    "\n",
    "# Create x, where x the 'scores' column's values as floats\n",
    "snow = w_f[['SNOW']].values.astype(float)\n",
    "\n",
    "# Create a minimum and maximum processor object\n",
    "min_max_scaler = preprocessing.MinMaxScaler()\n",
    "\n",
    "# Create an object to transform the data to fit minmax processor\n",
    "snow_scaled = min_max_scaler.fit_transform(snow)\n",
    "\n",
    "# Run the normalizer on the dataframe\n",
    "snow_normalized = pd.DataFrame(snow_scaled)\n",
    "# change values \n",
    "w_f['SNOW']= snow_normalized\n",
    "w_f['SNOW'].fillna((w_f['SNOW'].mean()), inplace=True)"
   ]
  },
  {
   "cell_type": "code",
   "execution_count": 406,
   "metadata": {
    "collapsed": true
   },
   "outputs": [],
   "source": [
    "# normalize prcp\n",
    "from sklearn import preprocessing\n",
    "\n",
    "w_f['PRCP'].fillna((w_f['PRCP'].mean()), inplace=True)\n",
    "\n",
    "# Create x, where x the 'scores' column's values as floats\n",
    "prcp = w_f[['PRCP']].values.astype(float)\n",
    "\n",
    "# Create a minimum and maximum processor object\n",
    "min_max_scaler = preprocessing.MinMaxScaler()\n",
    "\n",
    "# Create an object to transform the data to fit minmax processor\n",
    "prcp_scaled = min_max_scaler.fit_transform(prcp)\n",
    "\n",
    "# Run the normalizer on the dataframe\n",
    "prcp_normalized = pd.DataFrame(prcp_scaled)\n",
    "# change values \n",
    "w_f['PRCP']= prcp_normalized\n",
    "w_f['PRCP'].fillna((w_f['PRCP'].mean()), inplace=True)"
   ]
  },
  {
   "cell_type": "code",
   "execution_count": 407,
   "metadata": {
    "collapsed": true
   },
   "outputs": [],
   "source": [
    "# normalize awnd\n",
    "from sklearn import preprocessing\n",
    "\n",
    "w_f['AWND'].fillna((w_f['AWND'].mean()), inplace=True)\n",
    "\n",
    "# Create x, where x the 'scores' column's values as floats\n",
    "wind = w_f[['AWND']].values.astype(float)\n",
    "\n",
    "# Create a minimum and maximum processor object\n",
    "min_max_scaler = preprocessing.MinMaxScaler()\n",
    "\n",
    "# Create an object to transform the data to fit minmax processor\n",
    "wind_scaled = min_max_scaler.fit_transform(wind)\n",
    "\n",
    "# Run the normalizer on the dataframe\n",
    "wind_normalized = pd.DataFrame(wind_scaled)\n",
    "# change values \n",
    "w_f['AWND']= wind_normalized\n",
    "w_f['AWND'].fillna((w_f['AWND'].mean()), inplace=True)"
   ]
  },
  {
   "cell_type": "code",
   "execution_count": 408,
   "metadata": {
    "collapsed": true
   },
   "outputs": [],
   "source": [
    "from patsy import dmatrices\n",
    "from sklearn.linear_model import LogisticRegression\n",
    "from sklearn.cross_validation import train_test_split,  cross_val_score\n",
    "from sklearn.metrics import accuracy_score\n",
    "\n",
    "# redefined as dflogit before dummy variables\n",
    "dflogit_1=w_f"
   ]
  },
  {
   "cell_type": "code",
   "execution_count": 409,
   "metadata": {
    "collapsed": true
   },
   "outputs": [],
   "source": [
    "# created dumby variables\n",
    "for elem in dflogit_1['DAY_OF_WEEK']:\n",
    "    dflogit_1[str(elem)] = dflogit_1['DAY_OF_WEEK'] == elem\n",
    "    \n",
    "for elem in dflogit_1['AIRLINE']:\n",
    "    dflogit_1[str(elem)] = dflogit_1['AIRLINE'] == elem\n",
    "    \n",
    "for elem in dflogit_1['SEASON']:\n",
    "    dflogit_1[str(elem)] = dflogit_1['SEASON'] == elem\n",
    "    \n",
    "for elem in dflogit_1['ORIGIN_AIRPORT']:\n",
    "    dflogit_1[str(elem)] = dflogit_1['ORIGIN_AIRPORT'] == elem\n",
    "\n",
    "for elem in dflogit_1['DESTINATION_AIRPORT']:\n",
    "    dflogit_1[str(elem)] = dflogit_1['DESTINATION_AIRPORT'] == elem"
   ]
  },
  {
   "cell_type": "markdown",
   "metadata": {},
   "source": [
    "## Logistic Regression"
   ]
  },
  {
   "cell_type": "code",
   "execution_count": 410,
   "metadata": {},
   "outputs": [
    {
     "name": "stdout",
     "output_type": "stream",
     "text": [
      "0.613500784929\n"
     ]
    }
   ],
   "source": [
    "# Split the data into a training and test set.\n",
    "Xlr, Xtestlr, ylr, ytestlr = train_test_split(dflogit_1[['4', '5', '6', '7',\n",
    "       '1', '2', 'B6', 'AA', 'UA', 'OO', 'Winter', 'Spring',\n",
    "       'Summer', 'ORD', 'AWND', 'PRCP', 'SNOW']].values, (dflogit_1.DELAY == 1).values,random_state=5)\n",
    "\n",
    "clf = LogisticRegression()\n",
    "# Fit the model on the trainng data.\n",
    "clf.fit(Xlr, ylr)\n",
    "# Print the accuracy from the testing data.\n",
    "print(accuracy_score(clf.predict(Xtestlr), ytestlr))"
   ]
  },
  {
   "cell_type": "code",
   "execution_count": 432,
   "metadata": {
    "collapsed": true
   },
   "outputs": [],
   "source": [
    "def cv_optimize(clf, parameters, Xtrain, ytrain, n_folds=5):\n",
    "    gs = sklearn.model_selection.GridSearchCV(clf, param_grid=parameters, cv=n_folds)\n",
    "    gs.fit(Xtrain, ytrain)\n",
    "    print(\"BEST PARAMS\", gs.best_params_)\n",
    "    best = gs.best_estimator_\n",
    "    return best\n",
    "\n",
    "from sklearn.model_selection import train_test_split\n",
    "\n",
    "def do_classify(clf, parameters, indf, featurenames, targetname, target1val, standardize=False, train_size=0.8):\n",
    "    subdf=indf[featurenames]\n",
    "    if standardize:\n",
    "        subdfstd=(subdf - subdf.mean())/subdf.std()\n",
    "    else:\n",
    "        subdfstd=subdf\n",
    "    X=subdfstd.values\n",
    "    y=(indf[targetname].values==target1val)*1\n",
    "    Xtrain, Xtest, ytrain, ytest = train_test_split(X, y, train_size=train_size)\n",
    "    clf = cv_optimize(clf, parameters, Xtrain, ytrain)\n",
    "    clf=clf.fit(Xtrain, ytrain)\n",
    "    training_accuracy = clf.score(Xtrain, ytrain)\n",
    "    test_accuracy = clf.score(Xtest, ytest)\n",
    "    print(\"Accuracy on training data: {:0.2f}\".format(training_accuracy))\n",
    "    print(\"Accuracy on test data:     {:0.2f}\".format(test_accuracy))\n",
    "    return clf, Xtrain, ytrain, Xtest, ytest"
   ]
  },
  {
   "cell_type": "code",
   "execution_count": 433,
   "metadata": {},
   "outputs": [
    {
     "name": "stdout",
     "output_type": "stream",
     "text": [
      "BEST PARAMS {'C': 100}\n",
      "Accuracy on training data: 0.61\n",
      "Accuracy on test data:     0.62\n"
     ]
    }
   ],
   "source": [
    "clf_l, Xtrain_l, ytrain_l, Xtest_l, ytest_l  = do_classify(LogisticRegression(), \n",
    "                                                           {\"C\": [0.01, 0.1, 1, 10, 100]}, \n",
    "                                                           dflogit_1,['4', '5', '6', '7',\n",
    "       '1', '2', 'B6', 'AA', 'UA', 'OO', 'Winter', 'Spring',\n",
    "       'Summer', 'ORD', 'AWND', 'PRCP', 'SNOW'], 'DELAY',1)"
   ]
  },
  {
   "cell_type": "code",
   "execution_count": 434,
   "metadata": {},
   "outputs": [
    {
     "data": {
      "text/plain": [
       "array([[ 0.06801179, -0.00723734, -0.36000222,  0.01717785, -0.00872119,\n",
       "         0.08431363, -0.87133272, -1.26193962, -0.43451794, -0.76629544,\n",
       "         1.15739307,  0.71960286,  0.76979864, -0.05838496,  0.37456666,\n",
       "         1.37529539,  6.22931218]])"
      ]
     },
     "execution_count": 434,
     "metadata": {},
     "output_type": "execute_result"
    }
   ],
   "source": [
    "clf_l.coef_"
   ]
  },
  {
   "cell_type": "markdown",
   "metadata": {
    "collapsed": true
   },
   "source": [
    "Snow is the most influential feature. PRCP is 2nd most influential. \n",
    "\n",
    "Weekday coefficients: Wednesday, Thursday, Saturday, Monday all contribute to a higher likelihood of delay than Tuesday. Friday and Saturday all contribute to a lower likelihood of delay.\n",
    "\n",
    "Airline Coefficients: Spirit Airlines appears to have the lowest contribution to a delay. B6, AA, UA, and OO are all negative. \n",
    "\n",
    "Season Coefficients: Fall appears to have the lowest contribution to a delay. Winter, Spring, and Summer are all positive. \n",
    "\n",
    "Airport Coefficients: Boston appears to have a higher contribution to delay than Chicago. "
   ]
  },
  {
   "cell_type": "markdown",
   "metadata": {},
   "source": [
    "## Random Forest"
   ]
  },
  {
   "cell_type": "code",
   "execution_count": 453,
   "metadata": {},
   "outputs": [
    {
     "data": {
      "text/plain": [
       "0.68328100470957609"
      ]
     },
     "execution_count": 453,
     "metadata": {},
     "output_type": "execute_result"
    }
   ],
   "source": [
    "forest_params = {'min_samples_split': [8, 16], \n",
    "                 'min_samples_leaf': [4, 8]}\n",
    "rfc = GridSearchCV(RandomForestClassifier(), forest_params, cv=5)\n",
    "rfc.fit(Xlr, ylr)\n",
    "rfc.score(Xtest_l, ytest_l)"
   ]
  },
  {
   "cell_type": "code",
   "execution_count": 454,
   "metadata": {},
   "outputs": [
    {
     "data": {
      "text/plain": [
       "array([ 0.02037066,  0.02340269,  0.02493036,  0.01866392,  0.02143739,\n",
       "        0.0236292 ,  0.01805217,  0.0967215 ,  0.05179099,  0.00906764,\n",
       "        0.06062129,  0.03264484,  0.03397921,  0.04489406,  0.30989359,\n",
       "        0.16095135,  0.04894913])"
      ]
     },
     "execution_count": 454,
     "metadata": {},
     "output_type": "execute_result"
    }
   ],
   "source": [
    "rfc.best_estimator_.feature_importances_"
   ]
  },
  {
   "cell_type": "markdown",
   "metadata": {},
   "source": [
    "Random forest performs slightly better. Most important features are Wind and Precipitation."
   ]
  }
 ],
 "metadata": {
  "kernelspec": {
   "display_name": "Python 3",
   "language": "python",
   "name": "python3"
  },
  "language_info": {
   "codemirror_mode": {
    "name": "ipython",
    "version": 3
   },
   "file_extension": ".py",
   "mimetype": "text/x-python",
   "name": "python",
   "nbconvert_exporter": "python",
   "pygments_lexer": "ipython3",
   "version": "3.6.1"
  }
 },
 "nbformat": 4,
 "nbformat_minor": 2
}
