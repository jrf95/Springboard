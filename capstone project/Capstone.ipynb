{
 "cells": [
  {
   "cell_type": "markdown",
   "metadata": {},
   "source": [
    "# Data Wrangling and Cleaning"
   ]
  },
  {
   "cell_type": "code",
   "execution_count": 78,
   "metadata": {
    "collapsed": true
   },
   "outputs": [],
   "source": [
    "import pandas as pd\n",
    "import numpy as np\n",
    "from datetime import datetime\n",
    "import scipy.stats as stats\n",
    "import matplotlib.pyplot as plt\n",
    "import sklearn\n",
    "import seaborn as sns\n",
    "\n",
    "# convert year, month and day to one datetime object\n",
    "flights=pd.read_csv('flights.csv', low_memory=False, parse_dates=[[1, 2]], \n",
    "                    date_parser=lambda *columns: datetime(2015, *map(int, columns)), index_col=0)"
   ]
  },
  {
   "cell_type": "code",
   "execution_count": 79,
   "metadata": {
    "collapsed": true
   },
   "outputs": [],
   "source": [
    "# filter only CHI - BOS flights and BOS - CHI\n",
    "\n",
    "ORIG = flights['ORIGIN_AIRPORT'].isin(['ORD','BOS'])\n",
    "DEST = flights['DESTINATION_AIRPORT'].isin(['ORD','BOS'])\n",
    "flights_clean = flights[ORIG & DEST]\n",
    "flights_clean.is_copy = False\n",
    "flights_clean['DATE']=flights_clean.index"
   ]
  },
  {
   "cell_type": "code",
   "execution_count": 80,
   "metadata": {},
   "outputs": [
    {
     "data": {
      "text/html": [
       "<div>\n",
       "<style>\n",
       "    .dataframe thead tr:only-child th {\n",
       "        text-align: right;\n",
       "    }\n",
       "\n",
       "    .dataframe thead th {\n",
       "        text-align: left;\n",
       "    }\n",
       "\n",
       "    .dataframe tbody tr th {\n",
       "        vertical-align: top;\n",
       "    }\n",
       "</style>\n",
       "<table border=\"1\" class=\"dataframe\">\n",
       "  <thead>\n",
       "    <tr style=\"text-align: right;\">\n",
       "      <th></th>\n",
       "      <th>YEAR</th>\n",
       "      <th>DAY_OF_WEEK</th>\n",
       "      <th>AIRLINE</th>\n",
       "      <th>FLIGHT_NUMBER</th>\n",
       "      <th>TAIL_NUMBER</th>\n",
       "      <th>ORIGIN_AIRPORT</th>\n",
       "      <th>DESTINATION_AIRPORT</th>\n",
       "      <th>SCHEDULED_DEPARTURE</th>\n",
       "      <th>DEPARTURE_TIME</th>\n",
       "      <th>DEPARTURE_DELAY</th>\n",
       "      <th>...</th>\n",
       "      <th>ARRIVAL_DELAY</th>\n",
       "      <th>DIVERTED</th>\n",
       "      <th>CANCELLED</th>\n",
       "      <th>CANCELLATION_REASON</th>\n",
       "      <th>AIR_SYSTEM_DELAY</th>\n",
       "      <th>SECURITY_DELAY</th>\n",
       "      <th>AIRLINE_DELAY</th>\n",
       "      <th>LATE_AIRCRAFT_DELAY</th>\n",
       "      <th>WEATHER_DELAY</th>\n",
       "      <th>DATE</th>\n",
       "    </tr>\n",
       "    <tr>\n",
       "      <th>MONTH_DAY</th>\n",
       "      <th></th>\n",
       "      <th></th>\n",
       "      <th></th>\n",
       "      <th></th>\n",
       "      <th></th>\n",
       "      <th></th>\n",
       "      <th></th>\n",
       "      <th></th>\n",
       "      <th></th>\n",
       "      <th></th>\n",
       "      <th></th>\n",
       "      <th></th>\n",
       "      <th></th>\n",
       "      <th></th>\n",
       "      <th></th>\n",
       "      <th></th>\n",
       "      <th></th>\n",
       "      <th></th>\n",
       "      <th></th>\n",
       "      <th></th>\n",
       "      <th></th>\n",
       "    </tr>\n",
       "  </thead>\n",
       "  <tbody>\n",
       "    <tr>\n",
       "      <th>2015-01-01</th>\n",
       "      <td>2015</td>\n",
       "      <td>4</td>\n",
       "      <td>B6</td>\n",
       "      <td>1012</td>\n",
       "      <td>N375JB</td>\n",
       "      <td>ORD</td>\n",
       "      <td>BOS</td>\n",
       "      <td>540</td>\n",
       "      <td>529.0</td>\n",
       "      <td>-11.0</td>\n",
       "      <td>...</td>\n",
       "      <td>-33.0</td>\n",
       "      <td>0</td>\n",
       "      <td>0</td>\n",
       "      <td>NaN</td>\n",
       "      <td>NaN</td>\n",
       "      <td>NaN</td>\n",
       "      <td>NaN</td>\n",
       "      <td>NaN</td>\n",
       "      <td>NaN</td>\n",
       "      <td>2015-01-01</td>\n",
       "    </tr>\n",
       "    <tr>\n",
       "      <th>2015-01-01</th>\n",
       "      <td>2015</td>\n",
       "      <td>4</td>\n",
       "      <td>UA</td>\n",
       "      <td>1198</td>\n",
       "      <td>N38451</td>\n",
       "      <td>BOS</td>\n",
       "      <td>ORD</td>\n",
       "      <td>600</td>\n",
       "      <td>557.0</td>\n",
       "      <td>-3.0</td>\n",
       "      <td>...</td>\n",
       "      <td>-11.0</td>\n",
       "      <td>0</td>\n",
       "      <td>0</td>\n",
       "      <td>NaN</td>\n",
       "      <td>NaN</td>\n",
       "      <td>NaN</td>\n",
       "      <td>NaN</td>\n",
       "      <td>NaN</td>\n",
       "      <td>NaN</td>\n",
       "      <td>2015-01-01</td>\n",
       "    </tr>\n",
       "    <tr>\n",
       "      <th>2015-01-01</th>\n",
       "      <td>2015</td>\n",
       "      <td>4</td>\n",
       "      <td>UA</td>\n",
       "      <td>521</td>\n",
       "      <td>N854UA</td>\n",
       "      <td>BOS</td>\n",
       "      <td>ORD</td>\n",
       "      <td>700</td>\n",
       "      <td>700.0</td>\n",
       "      <td>0.0</td>\n",
       "      <td>...</td>\n",
       "      <td>13.0</td>\n",
       "      <td>0</td>\n",
       "      <td>0</td>\n",
       "      <td>NaN</td>\n",
       "      <td>NaN</td>\n",
       "      <td>NaN</td>\n",
       "      <td>NaN</td>\n",
       "      <td>NaN</td>\n",
       "      <td>NaN</td>\n",
       "      <td>2015-01-01</td>\n",
       "    </tr>\n",
       "    <tr>\n",
       "      <th>2015-01-01</th>\n",
       "      <td>2015</td>\n",
       "      <td>4</td>\n",
       "      <td>AA</td>\n",
       "      <td>1247</td>\n",
       "      <td>N3CHAA</td>\n",
       "      <td>BOS</td>\n",
       "      <td>ORD</td>\n",
       "      <td>700</td>\n",
       "      <td>659.0</td>\n",
       "      <td>-1.0</td>\n",
       "      <td>...</td>\n",
       "      <td>5.0</td>\n",
       "      <td>0</td>\n",
       "      <td>0</td>\n",
       "      <td>NaN</td>\n",
       "      <td>NaN</td>\n",
       "      <td>NaN</td>\n",
       "      <td>NaN</td>\n",
       "      <td>NaN</td>\n",
       "      <td>NaN</td>\n",
       "      <td>2015-01-01</td>\n",
       "    </tr>\n",
       "    <tr>\n",
       "      <th>2015-01-01</th>\n",
       "      <td>2015</td>\n",
       "      <td>4</td>\n",
       "      <td>B6</td>\n",
       "      <td>111</td>\n",
       "      <td>N267JB</td>\n",
       "      <td>BOS</td>\n",
       "      <td>ORD</td>\n",
       "      <td>715</td>\n",
       "      <td>710.0</td>\n",
       "      <td>-5.0</td>\n",
       "      <td>...</td>\n",
       "      <td>-1.0</td>\n",
       "      <td>0</td>\n",
       "      <td>0</td>\n",
       "      <td>NaN</td>\n",
       "      <td>NaN</td>\n",
       "      <td>NaN</td>\n",
       "      <td>NaN</td>\n",
       "      <td>NaN</td>\n",
       "      <td>NaN</td>\n",
       "      <td>2015-01-01</td>\n",
       "    </tr>\n",
       "  </tbody>\n",
       "</table>\n",
       "<p>5 rows × 30 columns</p>\n",
       "</div>"
      ],
      "text/plain": [
       "            YEAR  DAY_OF_WEEK AIRLINE  FLIGHT_NUMBER TAIL_NUMBER  \\\n",
       "MONTH_DAY                                                          \n",
       "2015-01-01  2015            4      B6           1012      N375JB   \n",
       "2015-01-01  2015            4      UA           1198      N38451   \n",
       "2015-01-01  2015            4      UA            521      N854UA   \n",
       "2015-01-01  2015            4      AA           1247      N3CHAA   \n",
       "2015-01-01  2015            4      B6            111      N267JB   \n",
       "\n",
       "           ORIGIN_AIRPORT DESTINATION_AIRPORT  SCHEDULED_DEPARTURE  \\\n",
       "MONTH_DAY                                                            \n",
       "2015-01-01            ORD                 BOS                  540   \n",
       "2015-01-01            BOS                 ORD                  600   \n",
       "2015-01-01            BOS                 ORD                  700   \n",
       "2015-01-01            BOS                 ORD                  700   \n",
       "2015-01-01            BOS                 ORD                  715   \n",
       "\n",
       "            DEPARTURE_TIME  DEPARTURE_DELAY    ...      ARRIVAL_DELAY  \\\n",
       "MONTH_DAY                                      ...                      \n",
       "2015-01-01           529.0            -11.0    ...              -33.0   \n",
       "2015-01-01           557.0             -3.0    ...              -11.0   \n",
       "2015-01-01           700.0              0.0    ...               13.0   \n",
       "2015-01-01           659.0             -1.0    ...                5.0   \n",
       "2015-01-01           710.0             -5.0    ...               -1.0   \n",
       "\n",
       "            DIVERTED  CANCELLED  CANCELLATION_REASON  AIR_SYSTEM_DELAY  \\\n",
       "MONTH_DAY                                                                \n",
       "2015-01-01         0          0                  NaN               NaN   \n",
       "2015-01-01         0          0                  NaN               NaN   \n",
       "2015-01-01         0          0                  NaN               NaN   \n",
       "2015-01-01         0          0                  NaN               NaN   \n",
       "2015-01-01         0          0                  NaN               NaN   \n",
       "\n",
       "            SECURITY_DELAY  AIRLINE_DELAY  LATE_AIRCRAFT_DELAY  WEATHER_DELAY  \\\n",
       "MONTH_DAY                                                                       \n",
       "2015-01-01             NaN            NaN                  NaN            NaN   \n",
       "2015-01-01             NaN            NaN                  NaN            NaN   \n",
       "2015-01-01             NaN            NaN                  NaN            NaN   \n",
       "2015-01-01             NaN            NaN                  NaN            NaN   \n",
       "2015-01-01             NaN            NaN                  NaN            NaN   \n",
       "\n",
       "                 DATE  \n",
       "MONTH_DAY              \n",
       "2015-01-01 2015-01-01  \n",
       "2015-01-01 2015-01-01  \n",
       "2015-01-01 2015-01-01  \n",
       "2015-01-01 2015-01-01  \n",
       "2015-01-01 2015-01-01  \n",
       "\n",
       "[5 rows x 30 columns]"
      ]
     },
     "execution_count": 80,
     "metadata": {},
     "output_type": "execute_result"
    }
   ],
   "source": [
    "# delete rows with any missing information in ARRIVAL_DELAY column - essentially filters out all cancellations \n",
    "flights_clean = flights_clean.dropna(subset=['ARRIVAL_DELAY']) \n",
    "flights_clean.head()\n"
   ]
  },
  {
   "cell_type": "code",
   "execution_count": 81,
   "metadata": {},
   "outputs": [
    {
     "data": {
      "text/html": [
       "<div>\n",
       "<style>\n",
       "    .dataframe thead tr:only-child th {\n",
       "        text-align: right;\n",
       "    }\n",
       "\n",
       "    .dataframe thead th {\n",
       "        text-align: left;\n",
       "    }\n",
       "\n",
       "    .dataframe tbody tr th {\n",
       "        vertical-align: top;\n",
       "    }\n",
       "</style>\n",
       "<table border=\"1\" class=\"dataframe\">\n",
       "  <thead>\n",
       "    <tr style=\"text-align: right;\">\n",
       "      <th></th>\n",
       "      <th>NAME</th>\n",
       "      <th>LATITUDE</th>\n",
       "      <th>LONGITUDE</th>\n",
       "      <th>ELEVATION</th>\n",
       "      <th>DATE</th>\n",
       "      <th>AWND</th>\n",
       "      <th>AWND_ATTRIBUTES</th>\n",
       "      <th>DAPR</th>\n",
       "      <th>DAPR_ATTRIBUTES</th>\n",
       "      <th>EVAP</th>\n",
       "      <th>...</th>\n",
       "      <th>WT06_ATTRIBUTES</th>\n",
       "      <th>WT08</th>\n",
       "      <th>WT08_ATTRIBUTES</th>\n",
       "      <th>WT09</th>\n",
       "      <th>WT09_ATTRIBUTES</th>\n",
       "      <th>WT10</th>\n",
       "      <th>WT10_ATTRIBUTES</th>\n",
       "      <th>WT11</th>\n",
       "      <th>WT11_ATTRIBUTES</th>\n",
       "      <th>ORIGIN_AIRPORT</th>\n",
       "    </tr>\n",
       "    <tr>\n",
       "      <th>STATION</th>\n",
       "      <th></th>\n",
       "      <th></th>\n",
       "      <th></th>\n",
       "      <th></th>\n",
       "      <th></th>\n",
       "      <th></th>\n",
       "      <th></th>\n",
       "      <th></th>\n",
       "      <th></th>\n",
       "      <th></th>\n",
       "      <th></th>\n",
       "      <th></th>\n",
       "      <th></th>\n",
       "      <th></th>\n",
       "      <th></th>\n",
       "      <th></th>\n",
       "      <th></th>\n",
       "      <th></th>\n",
       "      <th></th>\n",
       "      <th></th>\n",
       "      <th></th>\n",
       "    </tr>\n",
       "  </thead>\n",
       "  <tbody>\n",
       "    <tr>\n",
       "      <th>US1ILCK0148</th>\n",
       "      <td>OAK LAWN 1.9 SE, IL US</td>\n",
       "      <td>41.6936</td>\n",
       "      <td>-87.729</td>\n",
       "      <td>182.3</td>\n",
       "      <td>2015-03-10</td>\n",
       "      <td>NaN</td>\n",
       "      <td>NaN</td>\n",
       "      <td>NaN</td>\n",
       "      <td>NaN</td>\n",
       "      <td>NaN</td>\n",
       "      <td>...</td>\n",
       "      <td>NaN</td>\n",
       "      <td>NaN</td>\n",
       "      <td>NaN</td>\n",
       "      <td>NaN</td>\n",
       "      <td>NaN</td>\n",
       "      <td>NaN</td>\n",
       "      <td>NaN</td>\n",
       "      <td>NaN</td>\n",
       "      <td>NaN</td>\n",
       "      <td>ORD</td>\n",
       "    </tr>\n",
       "    <tr>\n",
       "      <th>US1ILCK0148</th>\n",
       "      <td>OAK LAWN 1.9 SE, IL US</td>\n",
       "      <td>41.6936</td>\n",
       "      <td>-87.729</td>\n",
       "      <td>182.3</td>\n",
       "      <td>2015-03-11</td>\n",
       "      <td>NaN</td>\n",
       "      <td>NaN</td>\n",
       "      <td>NaN</td>\n",
       "      <td>NaN</td>\n",
       "      <td>NaN</td>\n",
       "      <td>...</td>\n",
       "      <td>NaN</td>\n",
       "      <td>NaN</td>\n",
       "      <td>NaN</td>\n",
       "      <td>NaN</td>\n",
       "      <td>NaN</td>\n",
       "      <td>NaN</td>\n",
       "      <td>NaN</td>\n",
       "      <td>NaN</td>\n",
       "      <td>NaN</td>\n",
       "      <td>ORD</td>\n",
       "    </tr>\n",
       "    <tr>\n",
       "      <th>US1ILCK0148</th>\n",
       "      <td>OAK LAWN 1.9 SE, IL US</td>\n",
       "      <td>41.6936</td>\n",
       "      <td>-87.729</td>\n",
       "      <td>182.3</td>\n",
       "      <td>2015-03-15</td>\n",
       "      <td>NaN</td>\n",
       "      <td>NaN</td>\n",
       "      <td>NaN</td>\n",
       "      <td>NaN</td>\n",
       "      <td>NaN</td>\n",
       "      <td>...</td>\n",
       "      <td>NaN</td>\n",
       "      <td>NaN</td>\n",
       "      <td>NaN</td>\n",
       "      <td>NaN</td>\n",
       "      <td>NaN</td>\n",
       "      <td>NaN</td>\n",
       "      <td>NaN</td>\n",
       "      <td>NaN</td>\n",
       "      <td>NaN</td>\n",
       "      <td>ORD</td>\n",
       "    </tr>\n",
       "    <tr>\n",
       "      <th>US1ILCK0148</th>\n",
       "      <td>OAK LAWN 1.9 SE, IL US</td>\n",
       "      <td>41.6936</td>\n",
       "      <td>-87.729</td>\n",
       "      <td>182.3</td>\n",
       "      <td>2015-03-25</td>\n",
       "      <td>NaN</td>\n",
       "      <td>NaN</td>\n",
       "      <td>NaN</td>\n",
       "      <td>NaN</td>\n",
       "      <td>NaN</td>\n",
       "      <td>...</td>\n",
       "      <td>NaN</td>\n",
       "      <td>NaN</td>\n",
       "      <td>NaN</td>\n",
       "      <td>NaN</td>\n",
       "      <td>NaN</td>\n",
       "      <td>NaN</td>\n",
       "      <td>NaN</td>\n",
       "      <td>NaN</td>\n",
       "      <td>NaN</td>\n",
       "      <td>ORD</td>\n",
       "    </tr>\n",
       "    <tr>\n",
       "      <th>US1ILCK0148</th>\n",
       "      <td>OAK LAWN 1.9 SE, IL US</td>\n",
       "      <td>41.6936</td>\n",
       "      <td>-87.729</td>\n",
       "      <td>182.3</td>\n",
       "      <td>2015-03-27</td>\n",
       "      <td>NaN</td>\n",
       "      <td>NaN</td>\n",
       "      <td>NaN</td>\n",
       "      <td>NaN</td>\n",
       "      <td>NaN</td>\n",
       "      <td>...</td>\n",
       "      <td>NaN</td>\n",
       "      <td>NaN</td>\n",
       "      <td>NaN</td>\n",
       "      <td>NaN</td>\n",
       "      <td>NaN</td>\n",
       "      <td>NaN</td>\n",
       "      <td>NaN</td>\n",
       "      <td>NaN</td>\n",
       "      <td>NaN</td>\n",
       "      <td>ORD</td>\n",
       "    </tr>\n",
       "  </tbody>\n",
       "</table>\n",
       "<p>5 rows × 84 columns</p>\n",
       "</div>"
      ],
      "text/plain": [
       "                               NAME  LATITUDE  LONGITUDE  ELEVATION  \\\n",
       "STATION                                                               \n",
       "US1ILCK0148  OAK LAWN 1.9 SE, IL US   41.6936    -87.729      182.3   \n",
       "US1ILCK0148  OAK LAWN 1.9 SE, IL US   41.6936    -87.729      182.3   \n",
       "US1ILCK0148  OAK LAWN 1.9 SE, IL US   41.6936    -87.729      182.3   \n",
       "US1ILCK0148  OAK LAWN 1.9 SE, IL US   41.6936    -87.729      182.3   \n",
       "US1ILCK0148  OAK LAWN 1.9 SE, IL US   41.6936    -87.729      182.3   \n",
       "\n",
       "                  DATE  AWND AWND_ATTRIBUTES  DAPR DAPR_ATTRIBUTES  EVAP  \\\n",
       "STATION                                                                    \n",
       "US1ILCK0148 2015-03-10   NaN             NaN   NaN             NaN   NaN   \n",
       "US1ILCK0148 2015-03-11   NaN             NaN   NaN             NaN   NaN   \n",
       "US1ILCK0148 2015-03-15   NaN             NaN   NaN             NaN   NaN   \n",
       "US1ILCK0148 2015-03-25   NaN             NaN   NaN             NaN   NaN   \n",
       "US1ILCK0148 2015-03-27   NaN             NaN   NaN             NaN   NaN   \n",
       "\n",
       "                  ...       WT06_ATTRIBUTES  WT08 WT08_ATTRIBUTES  WT09  \\\n",
       "STATION           ...                                                     \n",
       "US1ILCK0148       ...                   NaN   NaN             NaN   NaN   \n",
       "US1ILCK0148       ...                   NaN   NaN             NaN   NaN   \n",
       "US1ILCK0148       ...                   NaN   NaN             NaN   NaN   \n",
       "US1ILCK0148       ...                   NaN   NaN             NaN   NaN   \n",
       "US1ILCK0148       ...                   NaN   NaN             NaN   NaN   \n",
       "\n",
       "            WT09_ATTRIBUTES  WT10 WT10_ATTRIBUTES  WT11 WT11_ATTRIBUTES  \\\n",
       "STATION                                                                   \n",
       "US1ILCK0148             NaN   NaN             NaN   NaN             NaN   \n",
       "US1ILCK0148             NaN   NaN             NaN   NaN             NaN   \n",
       "US1ILCK0148             NaN   NaN             NaN   NaN             NaN   \n",
       "US1ILCK0148             NaN   NaN             NaN   NaN             NaN   \n",
       "US1ILCK0148             NaN   NaN             NaN   NaN             NaN   \n",
       "\n",
       "             ORIGIN_AIRPORT  \n",
       "STATION                      \n",
       "US1ILCK0148             ORD  \n",
       "US1ILCK0148             ORD  \n",
       "US1ILCK0148             ORD  \n",
       "US1ILCK0148             ORD  \n",
       "US1ILCK0148             ORD  \n",
       "\n",
       "[5 rows x 84 columns]"
      ]
     },
     "execution_count": 81,
     "metadata": {},
     "output_type": "execute_result"
    }
   ],
   "source": [
    "# weather data\n",
    "weather=pd.read_csv('weather.csv', low_memory=False, index_col=0)\n",
    "# convert weather date to datetime\n",
    "weather['DATE'] = pd.to_datetime(weather['DATE'])\n",
    "weather['ORIGIN_AIRPORT'] = np.where(weather['NAME'] == 'BOSTON, MA US', 'BOS', 'ORD')\n",
    "weather.head()"
   ]
  },
  {
   "cell_type": "code",
   "execution_count": 82,
   "metadata": {},
   "outputs": [
    {
     "data": {
      "text/html": [
       "<div>\n",
       "<style>\n",
       "    .dataframe thead tr:only-child th {\n",
       "        text-align: right;\n",
       "    }\n",
       "\n",
       "    .dataframe thead th {\n",
       "        text-align: left;\n",
       "    }\n",
       "\n",
       "    .dataframe tbody tr th {\n",
       "        vertical-align: top;\n",
       "    }\n",
       "</style>\n",
       "<table border=\"1\" class=\"dataframe\">\n",
       "  <thead>\n",
       "    <tr style=\"text-align: right;\">\n",
       "      <th></th>\n",
       "      <th>YEAR</th>\n",
       "      <th>DAY_OF_WEEK</th>\n",
       "      <th>AIRLINE</th>\n",
       "      <th>FLIGHT_NUMBER</th>\n",
       "      <th>TAIL_NUMBER</th>\n",
       "      <th>ORIGIN_AIRPORT</th>\n",
       "      <th>DESTINATION_AIRPORT</th>\n",
       "      <th>SCHEDULED_DEPARTURE</th>\n",
       "      <th>DEPARTURE_TIME</th>\n",
       "      <th>DEPARTURE_DELAY</th>\n",
       "      <th>...</th>\n",
       "      <th>WT06</th>\n",
       "      <th>WT06_ATTRIBUTES</th>\n",
       "      <th>WT08</th>\n",
       "      <th>WT08_ATTRIBUTES</th>\n",
       "      <th>WT09</th>\n",
       "      <th>WT09_ATTRIBUTES</th>\n",
       "      <th>WT10</th>\n",
       "      <th>WT10_ATTRIBUTES</th>\n",
       "      <th>WT11</th>\n",
       "      <th>WT11_ATTRIBUTES</th>\n",
       "    </tr>\n",
       "  </thead>\n",
       "  <tbody>\n",
       "    <tr>\n",
       "      <th>0</th>\n",
       "      <td>2015</td>\n",
       "      <td>4</td>\n",
       "      <td>B6</td>\n",
       "      <td>1012</td>\n",
       "      <td>N375JB</td>\n",
       "      <td>ORD</td>\n",
       "      <td>BOS</td>\n",
       "      <td>540</td>\n",
       "      <td>529.0</td>\n",
       "      <td>-11.0</td>\n",
       "      <td>...</td>\n",
       "      <td>NaN</td>\n",
       "      <td>NaN</td>\n",
       "      <td>NaN</td>\n",
       "      <td>NaN</td>\n",
       "      <td>NaN</td>\n",
       "      <td>NaN</td>\n",
       "      <td>NaN</td>\n",
       "      <td>NaN</td>\n",
       "      <td>NaN</td>\n",
       "      <td>NaN</td>\n",
       "    </tr>\n",
       "    <tr>\n",
       "      <th>1</th>\n",
       "      <td>2015</td>\n",
       "      <td>4</td>\n",
       "      <td>B6</td>\n",
       "      <td>1012</td>\n",
       "      <td>N375JB</td>\n",
       "      <td>ORD</td>\n",
       "      <td>BOS</td>\n",
       "      <td>540</td>\n",
       "      <td>529.0</td>\n",
       "      <td>-11.0</td>\n",
       "      <td>...</td>\n",
       "      <td>NaN</td>\n",
       "      <td>NaN</td>\n",
       "      <td>NaN</td>\n",
       "      <td>NaN</td>\n",
       "      <td>NaN</td>\n",
       "      <td>NaN</td>\n",
       "      <td>NaN</td>\n",
       "      <td>NaN</td>\n",
       "      <td>NaN</td>\n",
       "      <td>NaN</td>\n",
       "    </tr>\n",
       "    <tr>\n",
       "      <th>2</th>\n",
       "      <td>2015</td>\n",
       "      <td>4</td>\n",
       "      <td>B6</td>\n",
       "      <td>1012</td>\n",
       "      <td>N375JB</td>\n",
       "      <td>ORD</td>\n",
       "      <td>BOS</td>\n",
       "      <td>540</td>\n",
       "      <td>529.0</td>\n",
       "      <td>-11.0</td>\n",
       "      <td>...</td>\n",
       "      <td>NaN</td>\n",
       "      <td>NaN</td>\n",
       "      <td>NaN</td>\n",
       "      <td>NaN</td>\n",
       "      <td>NaN</td>\n",
       "      <td>NaN</td>\n",
       "      <td>NaN</td>\n",
       "      <td>NaN</td>\n",
       "      <td>NaN</td>\n",
       "      <td>NaN</td>\n",
       "    </tr>\n",
       "    <tr>\n",
       "      <th>3</th>\n",
       "      <td>2015</td>\n",
       "      <td>4</td>\n",
       "      <td>B6</td>\n",
       "      <td>1012</td>\n",
       "      <td>N375JB</td>\n",
       "      <td>ORD</td>\n",
       "      <td>BOS</td>\n",
       "      <td>540</td>\n",
       "      <td>529.0</td>\n",
       "      <td>-11.0</td>\n",
       "      <td>...</td>\n",
       "      <td>NaN</td>\n",
       "      <td>NaN</td>\n",
       "      <td>NaN</td>\n",
       "      <td>NaN</td>\n",
       "      <td>NaN</td>\n",
       "      <td>NaN</td>\n",
       "      <td>NaN</td>\n",
       "      <td>NaN</td>\n",
       "      <td>NaN</td>\n",
       "      <td>NaN</td>\n",
       "    </tr>\n",
       "    <tr>\n",
       "      <th>4</th>\n",
       "      <td>2015</td>\n",
       "      <td>4</td>\n",
       "      <td>B6</td>\n",
       "      <td>1012</td>\n",
       "      <td>N375JB</td>\n",
       "      <td>ORD</td>\n",
       "      <td>BOS</td>\n",
       "      <td>540</td>\n",
       "      <td>529.0</td>\n",
       "      <td>-11.0</td>\n",
       "      <td>...</td>\n",
       "      <td>NaN</td>\n",
       "      <td>NaN</td>\n",
       "      <td>NaN</td>\n",
       "      <td>NaN</td>\n",
       "      <td>NaN</td>\n",
       "      <td>NaN</td>\n",
       "      <td>NaN</td>\n",
       "      <td>NaN</td>\n",
       "      <td>NaN</td>\n",
       "      <td>NaN</td>\n",
       "    </tr>\n",
       "  </tbody>\n",
       "</table>\n",
       "<p>5 rows × 112 columns</p>\n",
       "</div>"
      ],
      "text/plain": [
       "   YEAR  DAY_OF_WEEK AIRLINE  FLIGHT_NUMBER TAIL_NUMBER ORIGIN_AIRPORT  \\\n",
       "0  2015            4      B6           1012      N375JB            ORD   \n",
       "1  2015            4      B6           1012      N375JB            ORD   \n",
       "2  2015            4      B6           1012      N375JB            ORD   \n",
       "3  2015            4      B6           1012      N375JB            ORD   \n",
       "4  2015            4      B6           1012      N375JB            ORD   \n",
       "\n",
       "  DESTINATION_AIRPORT  SCHEDULED_DEPARTURE  DEPARTURE_TIME  DEPARTURE_DELAY  \\\n",
       "0                 BOS                  540           529.0            -11.0   \n",
       "1                 BOS                  540           529.0            -11.0   \n",
       "2                 BOS                  540           529.0            -11.0   \n",
       "3                 BOS                  540           529.0            -11.0   \n",
       "4                 BOS                  540           529.0            -11.0   \n",
       "\n",
       "        ...         WT06  WT06_ATTRIBUTES  WT08  WT08_ATTRIBUTES  WT09  \\\n",
       "0       ...          NaN              NaN   NaN              NaN   NaN   \n",
       "1       ...          NaN              NaN   NaN              NaN   NaN   \n",
       "2       ...          NaN              NaN   NaN              NaN   NaN   \n",
       "3       ...          NaN              NaN   NaN              NaN   NaN   \n",
       "4       ...          NaN              NaN   NaN              NaN   NaN   \n",
       "\n",
       "   WT09_ATTRIBUTES  WT10  WT10_ATTRIBUTES  WT11  WT11_ATTRIBUTES  \n",
       "0              NaN   NaN              NaN   NaN              NaN  \n",
       "1              NaN   NaN              NaN   NaN              NaN  \n",
       "2              NaN   NaN              NaN   NaN              NaN  \n",
       "3              NaN   NaN              NaN   NaN              NaN  \n",
       "4              NaN   NaN              NaN   NaN              NaN  \n",
       "\n",
       "[5 rows x 112 columns]"
      ]
     },
     "execution_count": 82,
     "metadata": {},
     "output_type": "execute_result"
    }
   ],
   "source": [
    "# merge the data together \n",
    "flights_w_weather = flights_clean.merge(weather, how = 'inner', on = ['DATE', 'ORIGIN_AIRPORT'])\n",
    "flights_w_weather.head()"
   ]
  },
  {
   "cell_type": "code",
   "execution_count": 83,
   "metadata": {
    "collapsed": true
   },
   "outputs": [],
   "source": [
    "ohare_boston = flights_w_weather['NAME'].isin(['CHICAGO OHARE INTERNATIONAL AIRPORT, IL US', 'BOSTON, MA US'])\n",
    "flights_w_weather = flights_w_weather[ohare_boston]\n",
    "flights_w_weather = flights_w_weather.dropna(axis=1, how='all')\n",
    "flights_w_weather.reset_index()\n",
    "\n",
    "# deleted unnecessary columns - all that deleted had over half the data missing \n",
    "flights_w_weather = flights_w_weather.dropna(axis=1, how='any')\n",
    "\n",
    "# utilize function to make unique ids to delete duplicates\n",
    "def make_identifier(df):\n",
    "    str_id = df.apply(lambda x: '_'.join(map(str, x)), axis=1)\n",
    "    return pd.factorize(str_id)[0]\n",
    "\n",
    "flights_w_weather['combined_id'] = make_identifier(flights_w_weather[['DATE','DEPARTURE_TIME', 'TAIL_NUMBER']])\n",
    "# drop duplicates \n",
    "flights_w_weather = flights_w_weather.drop_duplicates(subset=['combined_id'], keep='first')\n",
    "flights_w_weather = flights_w_weather.reset_index()"
   ]
  },
  {
   "cell_type": "code",
   "execution_count": 84,
   "metadata": {
    "collapsed": true
   },
   "outputs": [],
   "source": [
    "import scipy.stats as stats\n",
    "import pylab\n",
    "\n",
    "# check departure delay for extreme values\n",
    "flights_w_weather.DEPARTURE_DELAY.sort_values()\n",
    "# delete extreme values\n",
    "flights_w_weather = flights_w_weather.drop(flights_w_weather[flights_w_weather['DEPARTURE_DELAY'] > 460].index)"
   ]
  },
  {
   "cell_type": "code",
   "execution_count": 85,
   "metadata": {},
   "outputs": [
    {
     "name": "stdout",
     "output_type": "stream",
     "text": [
      "1    6467\n",
      "0    6273\n",
      "Name: DELAY, dtype: int64\n"
     ]
    }
   ],
   "source": [
    "# create new variable to identify whether a delay occured or not and if it was departure or arrival\n",
    "flights_w_weather.is_copy = False\n",
    "flights_w_weather['AD_TAG'] = flights_w_weather.ARRIVAL_DELAY.map( lambda x: 1 if x > 0 else 0)\n",
    "flights_w_weather['DD_TAG'] = flights_w_weather.DEPARTURE_DELAY.map( lambda x: 1 if x > 0 else 0)\n",
    "# create a variable for delay \n",
    "flights_w_weather['DELAY'] = np.where(flights_w_weather['DD_TAG']==1, 1, \n",
    "                                      (np.where(flights_w_weather['AD_TAG']==1, 1, 0)))\n",
    "# count delay vs. non delay\n",
    "print(flights_w_weather['DELAY'].value_counts())"
   ]
  },
  {
   "cell_type": "markdown",
   "metadata": {},
   "source": [
    "# EDA and Inferential Statistics"
   ]
  },
  {
   "cell_type": "code",
   "execution_count": 241,
   "metadata": {},
   "outputs": [
    {
     "name": "stdout",
     "output_type": "stream",
     "text": [
      "AA    5744\n",
      "UA    4234\n",
      "B6    1907\n",
      "OO     503\n",
      "NK     352\n",
      "Name: AIRLINE, dtype: int64\n"
     ]
    },
    {
     "data": {
      "image/png": "[encoded data removed]",
      "text/plain": [
       "<matplotlib.figure.Figure at 0x138e6eb00>"
      ]
     },
     "metadata": {},
     "output_type": "display_data"
    },
    {
     "name": "stdout",
     "output_type": "stream",
     "text": [
      "ORD    6374\n",
      "BOS    6366\n",
      "Name: ORIGIN_AIRPORT, dtype: int64\n",
      "BOS    6374\n",
      "ORD    6366\n",
      "Name: DESTINATION_AIRPORT, dtype: int64\n"
     ]
    }
   ],
   "source": [
    "# Initial exploration\n",
    "print(flights_w_weather['AIRLINE'].value_counts())\n",
    "# Counts of each airline\n",
    "flights_w_weather['AIRLINE'].value_counts().plot(kind='barh')\n",
    "plt.show()\n",
    "# count of boston vs. chicago departures\n",
    "print(flights_w_weather['ORIGIN_AIRPORT'].value_counts())\n",
    "# count of boston vs. chicago arrivals\n",
    "print(flights_w_weather['DESTINATION_AIRPORT'].value_counts())"
   ]
  },
  {
   "cell_type": "markdown",
   "metadata": {
    "collapsed": true
   },
   "source": [
    "There are 5 airlines that run between Chicago and Boston in this dataset. American Airlines has the highest count of ~5800 flights while Spirit Airlines has the lowest count of ~300. \n",
    "\n",
    "Confirms that there are about equal amounts of Boston and Chicago departues and arrivals. "
   ]
  },
  {
   "cell_type": "code",
   "execution_count": 87,
   "metadata": {},
   "outputs": [
    {
     "name": "stdout",
     "output_type": "stream",
     "text": [
      "             Delay  Non-Delay\n",
      "AIRLINE                      \n",
      "AA       41.556407  58.443593\n",
      "B6       51.074987  48.925013\n",
      "NK       68.465909  31.534091\n",
      "OO       57.057654  42.942346\n",
      "UA       60.888049  39.111951\n"
     ]
    },
    {
     "data": {
      "image/png": "[encoded data removed]",
      "text/plain": [
       "<matplotlib.figure.Figure at 0x1108d7400>"
      ]
     },
     "metadata": {},
     "output_type": "display_data"
    }
   ],
   "source": [
    "# proportion of delays by airline\n",
    "def prop(x):\n",
    "    return (sum(x == 1) / float(len(x)))*100, (sum(x != 1) / float(len(x)))*100\n",
    "\n",
    "grouped = flights_w_weather.groupby(['AIRLINE'])['DELAY'].apply(prop)\n",
    "new_cols = ['Delay','Non-Delay']\n",
    "airlines = pd.DataFrame(list(zip(*grouped)), columns=grouped.index,index=new_cols).T\n",
    "print(airlines)\n",
    "airlines.plot(kind='bar')\n",
    "plt.show()"
   ]
  },
  {
   "cell_type": "code",
   "execution_count": 89,
   "metadata": {},
   "outputs": [
    {
     "name": "stdout",
     "output_type": "stream",
     "text": [
      "0.4155640668523677\n",
      "0.6088804912612187\n",
      "[-0.23150543728401984, -0.15512741153368215]\n"
     ]
    },
    {
     "data": {
      "text/plain": [
       "(11.350564653767691, 7.3685302741049892e-30)"
      ]
     },
     "execution_count": 89,
     "metadata": {},
     "output_type": "execute_result"
    }
   ],
   "source": [
    "# comparing proportion of delays between American and United\n",
    "# determine sample sizes\n",
    "american = flights_w_weather[flights_w_weather.AIRLINE=='AA']\n",
    "other = flights_w_weather[flights_w_weather.AIRLINE=='UA']\n",
    "american_size = len(american)\n",
    "other_size = len(other)\n",
    "\n",
    "# determine number of delays\n",
    "delay_a = len(american[american.DELAY == 1])\n",
    "delay_o = len(other[other.DELAY == 1])\n",
    "\n",
    "# determine proportion of delays\n",
    "prop_delay_a = delay_a/american_size\n",
    "prop_delay_o = delay_o/other_size\n",
    "print(prop_delay_a)\n",
    "print(prop_delay_o)\n",
    "\n",
    "\n",
    "\"\"\"\n",
    "Ho: prop_delay_a=prop_delay_o\n",
    "Ha: prop_delay_a!=prop_delay_o\n",
    "\"\"\"\n",
    "\n",
    "import math\n",
    "# compute margin\n",
    "margin = 1.96 * math.sqrt( ( prop_delay_a*(1-prop_delay_a) / other_size) + \n",
    "                          (prop_delay_o*(1-prop_delay_o)/ american_size) )\n",
    "\n",
    "# compute confidence interval for difference in proportion \n",
    "confidence_int= [prop_delay_a-prop_delay_o-1.96*margin,prop_delay_a-prop_delay_o+1.96*margin]\n",
    "print(confidence_int)\n",
    "\n",
    "# proportions ztest\n",
    "from statsmodels.stats.proportion import proportions_ztest as pz\n",
    "pz(np.array([delay_a,delay_o]),np.array([other_size,american_size]),value=0)"
   ]
  },
  {
   "cell_type": "markdown",
   "metadata": {},
   "source": [
    "P-value of 0, reject null hypothesis that proportion of delays is the same between American and United. United has more. 95% confident that the difference in proportions is between -.232 and -.155. "
   ]
  },
  {
   "cell_type": "code",
   "execution_count": null,
   "metadata": {
    "collapsed": true
   },
   "outputs": [],
   "source": [
    "# refer back to original flights_clean dataset - 2923 Delays had atleast one reason documented \n",
    "flights_clean\n",
    "# will identify frequency of those reasons below\n",
    "flights_clean.ORIGIN_AIRPORT.value_counts()"
   ]
  },
  {
   "cell_type": "code",
   "execution_count": 90,
   "metadata": {},
   "outputs": [
    {
     "name": "stdout",
     "output_type": "stream",
     "text": [
      "Weather:229 Aircraft:1410 Airline:1392 Security:3 Air System:1736\n"
     ]
    }
   ],
   "source": [
    "# how many weather delays did the dataset originally account for - multiple types can occur at once\n",
    "weather = flights_clean.dropna(subset=['WEATHER_DELAY'])\n",
    "x = weather.WEATHER_DELAY.count()\n",
    "weather.WEATHER_DELAY.value_counts()\n",
    "# found count at 0 and subtracted from total\n",
    "count_1 = x - 2694\n",
    "\n",
    "# how many late aircraft delays did the dataset originally account for - multiple types can occur at once\n",
    "late = flights_clean.dropna(subset=['LATE_AIRCRAFT_DELAY'])\n",
    "x = late.LATE_AIRCRAFT_DELAY.count()\n",
    "late.LATE_AIRCRAFT_DELAY.value_counts()\n",
    "# found count at 0 and subtracted from total\n",
    "count_2 = x - 1513\n",
    "\n",
    "# how many airline delays did the dataset originally account for - multiple types can occur at once\n",
    "airline = flights_clean.dropna(subset=['AIRLINE_DELAY'])\n",
    "x = airline.AIRLINE_DELAY.count()\n",
    "airline.AIRLINE_DELAY.value_counts()\n",
    "# found count at 0 and subtracted from total\n",
    "count_3 = x - 1531\n",
    "\n",
    "# how many security delays did the dataset originally account for - multiple types can occur at once\n",
    "security = flights_clean.dropna(subset=['SECURITY_DELAY'])\n",
    "x = security.SECURITY_DELAY.count()\n",
    "security.SECURITY_DELAY.value_counts()\n",
    "# found count at 0 and subtracted from total\n",
    "count_4 = x - 2920\n",
    "\n",
    "# how many air system delays did the dataset originally account for - multiple types can occur at once\n",
    "system = flights_clean.dropna(subset=['AIR_SYSTEM_DELAY'])\n",
    "x = system.AIR_SYSTEM_DELAY.count()\n",
    "system.AIR_SYSTEM_DELAY.value_counts()\n",
    "# found count at 0 and subtracted from total\n",
    "count_5 = x - 1187\n",
    "\n",
    "print(\"Weather:{}\".format(count_1),\n",
    "     \"Aircraft:{}\".format(count_2),\n",
    "     \"Airline:{}\".format(count_3),\n",
    "     \"Security:{}\".format(count_4),\n",
    "     \"Air System:{}\".format(count_5))\n"
   ]
  },
  {
   "cell_type": "code",
   "execution_count": 91,
   "metadata": {},
   "outputs": [
    {
     "data": {
      "image/png": "[encoded data removed]",
      "text/plain": [
       "<matplotlib.figure.Figure at 0x1107a78d0>"
      ]
     },
     "metadata": {},
     "output_type": "display_data"
    }
   ],
   "source": [
    "# plot delay reasons\n",
    "x = np.arange(5)\n",
    "y = [count_1, count_2, count_3, count_4, count_5]\n",
    "plt.bar(x, y)\n",
    "plt.xticks(x, ('Weather', 'Aircraft', 'Airline', 'Security', 'Air System'))\n",
    "plt.show()"
   ]
  },
  {
   "cell_type": "markdown",
   "metadata": {},
   "source": [
    "Air System was the highest, while security was the lowest. Weather was a lot lower than expected at only 229 of the\n",
    "2923 delays (that had reasons documented)."
   ]
  },
  {
   "cell_type": "code",
   "execution_count": 94,
   "metadata": {},
   "outputs": [
    {
     "data": {
      "text/plain": [
       "3750"
      ]
     },
     "execution_count": 94,
     "metadata": {},
     "output_type": "execute_result"
    }
   ],
   "source": [
    "# how many have an arrival and departure delay\n",
    "d_d = flights_w_weather['DD_TAG']==1\n",
    "a_d = flights_w_weather['AD_TAG']==1\n",
    "both = flights_w_weather[a_d & d_d]\n",
    "both['DD_TAG'].count()"
   ]
  },
  {
   "cell_type": "code",
   "execution_count": 93,
   "metadata": {},
   "outputs": [
    {
     "data": {
      "text/plain": [
       "1587"
      ]
     },
     "execution_count": 93,
     "metadata": {},
     "output_type": "execute_result"
    }
   ],
   "source": [
    "# how many only have a departure delay\n",
    "d_d = flights_w_weather['DD_TAG']==1\n",
    "no_ad = flights_w_weather['AD_TAG']==0\n",
    "d_only = flights_w_weather[d_d & no_ad]\n",
    "d_only['DD_TAG'].count()"
   ]
  },
  {
   "cell_type": "code",
   "execution_count": 92,
   "metadata": {},
   "outputs": [
    {
     "data": {
      "text/plain": [
       "1130"
      ]
     },
     "execution_count": 92,
     "metadata": {},
     "output_type": "execute_result"
    }
   ],
   "source": [
    "# how many only have an arrival delay\n",
    "no_dd = flights_w_weather['DD_TAG']==0\n",
    "only_ad = flights_w_weather['AD_TAG']==1\n",
    "d_only = flights_w_weather[no_dd & only_ad]\n",
    "d_only['AD_TAG'].count()"
   ]
  },
  {
   "cell_type": "code",
   "execution_count": 95,
   "metadata": {},
   "outputs": [
    {
     "name": "stdout",
     "output_type": "stream",
     "text": [
      "                 Delay  Non-Delay\n",
      "DAY_OF_WEEK                      \n",
      "1            50.692226  49.307774\n",
      "2            52.803738  47.196262\n",
      "3            50.934816  49.065184\n",
      "4            53.647181  46.352819\n",
      "5            51.434533  48.565467\n",
      "6            42.952030  57.047970\n",
      "7            50.513699  49.486301\n"
     ]
    },
    {
     "data": {
      "image/png": "[encoded data removed]",
      "text/plain": [
       "<matplotlib.figure.Figure at 0x10fdad2e8>"
      ]
     },
     "metadata": {},
     "output_type": "display_data"
    }
   ],
   "source": [
    "# how many delays are there each day of the week?\n",
    "grouped = flights_w_weather.groupby(['DAY_OF_WEEK'])['DELAY'].apply(prop)\n",
    "new_cols = ['Delay','Non-Delay']\n",
    "days = pd.DataFrame(list(zip(*grouped)), columns=grouped.index,index=new_cols).T\n",
    "print(days)\n",
    "days.plot(kind='bar')\n",
    "plt.show()"
   ]
  },
  {
   "cell_type": "markdown",
   "metadata": {},
   "source": [
    "Friday has the lowest rate of delays at 42.95% while Wednesday has the highest at 53.65%. "
   ]
  },
  {
   "cell_type": "code",
   "execution_count": 242,
   "metadata": {},
   "outputs": [
    {
     "name": "stdout",
     "output_type": "stream",
     "text": [
      "0.42952029520295204\n",
      "0.5051369863013698\n",
      "[-0.14480188776206657, -0.006431494434769008]\n"
     ]
    },
    {
     "data": {
      "text/plain": [
       "(-17.770539827059192, 1.1953491395162437e-70)"
      ]
     },
     "execution_count": 242,
     "metadata": {},
     "output_type": "execute_result"
    }
   ],
   "source": [
    "# how does friday compare to saturday \n",
    "friday = flights_w_weather[flights_w_weather.DAY_OF_WEEK==6]\n",
    "other = flights_w_weather[flights_w_weather.DAY_OF_WEEK==7]\n",
    "friday_size = len(friday)\n",
    "other_size = len(other)\n",
    "\n",
    "# determine number of delays\n",
    "delay_f = len(friday[friday.DELAY == 1])\n",
    "delay_o = len(other[other.DELAY == 1])\n",
    "\n",
    "# determine proportion of delays\n",
    "prop_delay_f = delay_f/friday_size\n",
    "prop_delay_o = delay_o/other_size\n",
    "print(prop_delay_f)\n",
    "print(prop_delay_o)\n",
    "\n",
    "\"\"\"\n",
    "Ho: prop_delay_f=prop_delay_o\n",
    "Ha: prop_delay_f!=prop_delay_o\n",
    "\"\"\"\n",
    "\n",
    "import math\n",
    "# compute margin\n",
    "margin = 1.96 * math.sqrt( ( prop_delay_f*(1-prop_delay_f) / other_size) + \n",
    "                          (prop_delay_o*(1-prop_delay_o)/ friday_size) )\n",
    "\n",
    "# compute confidence interval for difference in proportion \n",
    "confidence_int= [prop_delay_f-prop_delay_o-1.96*margin,prop_delay_f-prop_delay_o+1.96*margin]\n",
    "print(confidence_int)\n",
    "\n",
    "# proportions ztest\n",
    "from statsmodels.stats.proportion import proportions_ztest as pz\n",
    "pz(np.array([delay_f,delay_o]),np.array([other_size,friday_size]),value=0)"
   ]
  },
  {
   "cell_type": "markdown",
   "metadata": {},
   "source": [
    "P-value of 0, reject null hypothesis that proportion of delays is the same between Friday and Saturday. Friday most likely has less. 95% confident that the difference in proportions is between -.15 and -.006. "
   ]
  },
  {
   "cell_type": "code",
   "execution_count": 96,
   "metadata": {
    "collapsed": true
   },
   "outputs": [],
   "source": [
    "# identify each season\n",
    "flights_w_weather['SEASON'] = np.where((flights_w_weather['DATE'] >= '2015-01-01') & \n",
    "                                      (flights_w_weather['DATE'] < '2015-03-21'), 'Winter', \n",
    "                np.where((flights_w_weather['DATE'] >= '2015-03-21') & \n",
    "                         (flights_w_weather['DATE'] < '2015-06-21'), 'Spring', \n",
    "                np.where((flights_w_weather['DATE'] >= '2015-06-21') & \n",
    "                         (flights_w_weather['DATE'] < '2015-09-22'), 'Summer',\n",
    "                np.where((flights_w_weather['DATE'] >= '2015-09-22') & \n",
    "                         (flights_w_weather['DATE'] < '2015-12-21'), 'Fall', 'Winter'))))    \n",
    "                         "
   ]
  },
  {
   "cell_type": "code",
   "execution_count": 97,
   "metadata": {},
   "outputs": [
    {
     "data": {
      "text/plain": [
       "Summer    4162\n",
       "Spring    3703\n",
       "Winter    2574\n",
       "Fall      2301\n",
       "Name: SEASON, dtype: int64"
      ]
     },
     "execution_count": 97,
     "metadata": {},
     "output_type": "execute_result"
    }
   ],
   "source": [
    "# frequency of flights each season\n",
    "flights_w_weather.SEASON.value_counts()"
   ]
  },
  {
   "cell_type": "code",
   "execution_count": 98,
   "metadata": {},
   "outputs": [
    {
     "name": "stdout",
     "output_type": "stream",
     "text": [
      "            Delay  Non-Delay\n",
      "SEASON                      \n",
      "Fall    35.462842  64.537158\n",
      "Spring  50.850662  49.149338\n",
      "Summer  52.114368  47.885632\n",
      "Winter  62.121212  37.878788\n"
     ]
    },
    {
     "data": {
      "image/png": "[encoded data removed]",
      "text/plain": [
       "<matplotlib.figure.Figure at 0x10ea3a6a0>"
      ]
     },
     "metadata": {},
     "output_type": "display_data"
    }
   ],
   "source": [
    "# proportion of delays by season \n",
    "def prop(x):\n",
    "    return (sum(x == 1) / float(len(x)))*100, (sum(x != 1) / float(len(x)))*100\n",
    "\n",
    "grouped = flights_w_weather.groupby(['SEASON'])['DELAY'].apply(prop)\n",
    "new_cols = ['Delay','Non-Delay']\n",
    "seasons = pd.DataFrame(list(zip(*grouped)), columns=grouped.index,index=new_cols).T\n",
    "print(seasons)\n",
    "seasons.plot(kind='bar')\n",
    "plt.show()"
   ]
  },
  {
   "cell_type": "code",
   "execution_count": 125,
   "metadata": {},
   "outputs": [
    {
     "name": "stdout",
     "output_type": "stream",
     "text": [
      "0.6212121212121212\n",
      "0.5211436809226333\n",
      "[0.05247466474017054, 0.1476622158388053]\n"
     ]
    },
    {
     "data": {
      "text/plain": [
       "(-36.827910671099801, 6.6027558761941656e-297)"
      ]
     },
     "execution_count": 125,
     "metadata": {},
     "output_type": "execute_result"
    }
   ],
   "source": [
    "# does season have a statistically significant effect on the amount of delays?\n",
    "\n",
    "# summer vs. winter\n",
    "winter = flights_w_weather[flights_w_weather.SEASON=='Winter']\n",
    "other = flights_w_weather[flights_w_weather.SEASON=='Summer']\n",
    "winter_size = len(winter)\n",
    "other_size = len(other)\n",
    "\n",
    "# determine number of delays\n",
    "delay_w = len(winter[winter.DELAY == 1])\n",
    "delay_o = len(other[other.DELAY == 1])\n",
    "\n",
    "# determine proportion of delays\n",
    "prop_delay_w = delay_w/winter_size\n",
    "prop_delay_o = delay_o/other_size\n",
    "print(prop_delay_w)\n",
    "print(prop_delay_o)\n",
    "\n",
    "\"\"\"\n",
    "Ho: prop_delay_s=prop_delay_o\n",
    "Ha: prop_delay_s!=prop_delay_o\n",
    "\"\"\"\n",
    "\n",
    "import math\n",
    "# compute margin\n",
    "margin = 1.96 * math.sqrt( ( prop_delay_w*(1-prop_delay_w) / other_size) + \n",
    "                          (prop_delay_o*(1-prop_delay_o)/ winter_size) )\n",
    "\n",
    "# compute confidence interval for difference in proportion \n",
    "confidence_int= [prop_delay_w-prop_delay_o-1.96*margin,prop_delay_w-prop_delay_o+1.96*margin]\n",
    "print(confidence_int)\n",
    "\n",
    "# proportions ztest\n",
    "from statsmodels.stats.proportion import proportions_ztest as pz\n",
    "pz(np.array([delay_w,delay_o]),np.array([other_size,winter_size]),value=0)"
   ]
  },
  {
   "cell_type": "markdown",
   "metadata": {},
   "source": [
    "P-value of 0, reject null hypothesis that proportion of delays is the same between summer and winter. Winter has more. 95% confident that the difference in proportions is between .052 and .148. "
   ]
  },
  {
   "cell_type": "code",
   "execution_count": 102,
   "metadata": {},
   "outputs": [
    {
     "name": "stdout",
     "output_type": "stream",
     "text": [
      "0.6212121212121212\n",
      "0.3546284224250326\n",
      "[0.213466975074191, 0.3197004224999862]\n"
     ]
    },
    {
     "data": {
      "text/plain": [
       "(26.345075048700568, 5.8446179195098188e-153)"
      ]
     },
     "execution_count": 102,
     "metadata": {},
     "output_type": "execute_result"
    }
   ],
   "source": [
    "# summer vs. winter\n",
    "winter = flights_w_weather[flights_w_weather.SEASON=='Winter']\n",
    "other = flights_w_weather[flights_w_weather.SEASON=='Fall']\n",
    "winter_size = len(winter)\n",
    "other_size = len(other)\n",
    "\n",
    "# determine number of delays\n",
    "delay_w = len(winter[winter.DELAY == 1])\n",
    "delay_o = len(other[other.DELAY == 1])\n",
    "\n",
    "# determine proportion of delays\n",
    "prop_delay_w = delay_w/winter_size\n",
    "prop_delay_o = delay_o/other_size\n",
    "print(prop_delay_w)\n",
    "print(prop_delay_o)\n",
    "\n",
    "\"\"\"Hypothesis:\n",
    "\n",
    "Ho: prop_delay_s=prop_delay_o\n",
    "Ha: prop_delay_s!=prop_delay_o\"\"\"\n",
    "\n",
    "import math\n",
    "# compute margin\n",
    "margin = 1.96 * math.sqrt( ( prop_delay_w*(1-prop_delay_w) / other_size) + \n",
    "                          (prop_delay_o*(1-prop_delay_o)/ winter_size) )\n",
    "\n",
    "# compute confidence interval for difference in proportion \n",
    "confidence_int= [prop_delay_w-prop_delay_o-1.96*margin,prop_delay_w-prop_delay_o+1.96*margin]\n",
    "print(confidence_int)\n",
    "\n",
    "# proportions ztest\n",
    "from statsmodels.stats.proportion import proportions_ztest as pz\n",
    "pz(np.array([delay_w,delay_o]),np.array([other_size,winter_size]),value=0)"
   ]
  },
  {
   "cell_type": "markdown",
   "metadata": {},
   "source": [
    "P-value of 0, reject null hypothesis that proportion of delays is the same between winter and fall. Winter has more. 95% confident that the difference in proportions is between .21 and .31. "
   ]
  },
  {
   "cell_type": "code",
   "execution_count": 103,
   "metadata": {},
   "outputs": [
    {
     "name": "stdout",
     "output_type": "stream",
     "text": [
      "0.6212121212121212\n",
      "0.5085066162570888\n",
      "[0.06401527223230782, 0.16139573767775697]\n"
     ]
    },
    {
     "data": {
      "text/plain": [
       "(-23.501099591131105, 3.9745013914199538e-122)"
      ]
     },
     "execution_count": 103,
     "metadata": {},
     "output_type": "execute_result"
    }
   ],
   "source": [
    "# summer vs. winter\n",
    "winter = flights_w_weather[flights_w_weather.SEASON=='Winter']\n",
    "other = flights_w_weather[flights_w_weather.SEASON=='Spring']\n",
    "winter_size = len(winter)\n",
    "other_size = len(other)\n",
    "\n",
    "# determine number of delays\n",
    "delay_w = len(winter[winter.DELAY == 1])\n",
    "delay_o = len(other[other.DELAY == 1])\n",
    "\n",
    "# determine proportion of delays\n",
    "prop_delay_w = delay_w/winter_size\n",
    "prop_delay_o = delay_o/other_size\n",
    "print(prop_delay_w)\n",
    "print(prop_delay_o)\n",
    "\n",
    "\"\"\"Hypothesis:\n",
    "\n",
    "Ho: prop_delay_s=prop_delay_o\n",
    "Ha: prop_delay_s!=prop_delay_o\"\"\"\n",
    "\n",
    "import math\n",
    "# compute margin\n",
    "margin = 1.96 * math.sqrt( ( prop_delay_w*(1-prop_delay_w) / other_size) + \n",
    "                          (prop_delay_o*(1-prop_delay_o)/ winter_size) )\n",
    "\n",
    "# compute confidence interval for difference in proportion \n",
    "confidence_int= [prop_delay_w-prop_delay_o-1.96*margin,prop_delay_w-prop_delay_o+1.96*margin]\n",
    "print(confidence_int)\n",
    "\n",
    "# proportions ztest\n",
    "from statsmodels.stats.proportion import proportions_ztest as pz\n",
    "pz(np.array([delay_w,delay_o]),np.array([other_size,winter_size]),value=0)"
   ]
  },
  {
   "cell_type": "markdown",
   "metadata": {},
   "source": [
    "P-value of 0, reject null hypothesis that proportion of delays is the same between winter and spring. Winter has more delays. 95% confident that difference in proportions is between .06 and .16.\n",
    "\n",
    "Safe to say from this analysis that winter does have the highest proportion of delays. "
   ]
  },
  {
   "cell_type": "code",
   "execution_count": 124,
   "metadata": {},
   "outputs": [
    {
     "name": "stdout",
     "output_type": "stream",
     "text": [
      "6374\n",
      "6366\n",
      "3288\n",
      "3179\n",
      "0.5158456228427989\n",
      "0.4993716619541313\n",
      "[-0.017552611449394073, 0.05050053322672926]\n"
     ]
    },
    {
     "data": {
      "text/plain": [
       "(2.0035869948090332, 0.045114320125785611)"
      ]
     },
     "execution_count": 124,
     "metadata": {},
     "output_type": "execute_result"
    }
   ],
   "source": [
    "# does airport have a significant effect on delays?\n",
    "\n",
    "# determine sample sizes again\n",
    "ord_orig = flights_w_weather[flights_w_weather.ORIGIN_AIRPORT=='ORD']\n",
    "bos_orig = flights_w_weather[flights_w_weather.ORIGIN_AIRPORT=='BOS']\n",
    "ord_size = len(ord_orig)\n",
    "bos_size = len(bos_orig)\n",
    "print(ord_size)\n",
    "print(bos_size)\n",
    "\n",
    "# determine number of delays again \n",
    "delay_o = len(ord_orig[ord_orig.DELAY == 1])\n",
    "delay_b = len(bos_orig[bos_orig.DELAY == 1])\n",
    "print(delay_o)\n",
    "print(delay_b)\n",
    "\n",
    "# determine proportion of delays\n",
    "prop_delay_o = delay_o/ord_size\n",
    "prop_delay_b = delay_b/bos_size\n",
    "print(prop_delay_o)\n",
    "print(prop_delay_b)\n",
    "\n",
    "\"\"\"\n",
    "Ho: prop_delay_o=prop_delay_b\n",
    "Ha: prop_delay_o!=prop_delay_b\n",
    "\"\"\"\n",
    "\n",
    "import math\n",
    "# compute margin\n",
    "margin = 1.96 * math.sqrt( ( prop_delay_o*(1-prop_delay_o) / bos_size) + \n",
    "                          (prop_delay_b*(1-prop_delay_b)/ ord_size) )\n",
    "\n",
    "# compute confidence interval for difference in proportion \n",
    "confidence_int= [prop_delay_o-prop_delay_b-1.96*margin,prop_delay_o-prop_delay_b+1.96*margin]\n",
    "print(confidence_int)\n",
    "\n",
    "# proportions ztest\n",
    "from statsmodels.stats.proportion import proportions_ztest as pz\n",
    "pz(np.array([delay_o,delay_b]),np.array([bos_size,ord_size]),value=0)"
   ]
  },
  {
   "cell_type": "markdown",
   "metadata": {},
   "source": [
    "p-value low enough to reject null hypothesis, there is a slight difference in proportion of delays. Much more likely that Ohare will have more as confidence interval is -.01 to .05.  "
   ]
  },
  {
   "cell_type": "markdown",
   "metadata": {},
   "source": [
    "# Machine Learning"
   ]
  },
  {
   "cell_type": "markdown",
   "metadata": {},
   "source": [
    "## Data Prep"
   ]
  },
  {
   "cell_type": "code",
   "execution_count": 107,
   "metadata": {
    "collapsed": true
   },
   "outputs": [],
   "source": [
    "# normalize continuous variables used in Logistic Regression\n",
    "from sklearn import preprocessing\n",
    "\n",
    "flights_w_weather['SNOW'].fillna((flights_w_weather['SNOW'].mean()), inplace=True)\n",
    "\n",
    "# Create x, where x the 'scores' column's values as floats\n",
    "snow = flights_w_weather[['SNOW']].values.astype(float)\n",
    "\n",
    "# Create a minimum and maximum processor object\n",
    "min_max_scaler = preprocessing.MinMaxScaler()\n",
    "\n",
    "# Create an object to transform the data to fit minmax processor\n",
    "snow_scaled = min_max_scaler.fit_transform(snow)\n",
    "\n",
    "# Run the normalizer on the dataframe\n",
    "snow_normalized = pd.DataFrame(snow_scaled)\n",
    "# change values \n",
    "flights_w_weather['SNOW']= snow_normalized\n",
    "flights_w_weather['SNOW'].fillna((flights_w_weather['SNOW'].mean()), inplace=True)"
   ]
  },
  {
   "cell_type": "code",
   "execution_count": 108,
   "metadata": {
    "collapsed": true
   },
   "outputs": [],
   "source": [
    "# normalize prcp\n",
    "from sklearn import preprocessing\n",
    "\n",
    "flights_w_weather['PRCP'].fillna((flights_w_weather['PRCP'].mean()), inplace=True)\n",
    "\n",
    "# Create x, where x the 'scores' column's values as floats\n",
    "prcp = flights_w_weather[['PRCP']].values.astype(float)\n",
    "\n",
    "# Create a minimum and maximum processor object\n",
    "min_max_scaler = preprocessing.MinMaxScaler()\n",
    "\n",
    "# Create an object to transform the data to fit minmax processor\n",
    "prcp_scaled = min_max_scaler.fit_transform(prcp)\n",
    "\n",
    "# Run the normalizer on the dataframe\n",
    "prcp_normalized = pd.DataFrame(prcp_scaled)\n",
    "# change values \n",
    "flights_w_weather['PRCP']= prcp_normalized\n",
    "flights_w_weather['PRCP'].fillna((flights_w_weather['PRCP'].mean()), inplace=True)"
   ]
  },
  {
   "cell_type": "code",
   "execution_count": 109,
   "metadata": {
    "collapsed": true
   },
   "outputs": [],
   "source": [
    "# normalize awnd\n",
    "from sklearn import preprocessing\n",
    "\n",
    "flights_w_weather['AWND'].fillna((flights_w_weather['AWND'].mean()), inplace=True)\n",
    "\n",
    "# Create x, where x the 'scores' column's values as floats\n",
    "wind = flights_w_weather[['AWND']].values.astype(float)\n",
    "\n",
    "# Create a minimum and maximum processor object\n",
    "min_max_scaler = preprocessing.MinMaxScaler()\n",
    "\n",
    "# Create an object to transform the data to fit minmax processor\n",
    "wind_scaled = min_max_scaler.fit_transform(wind)\n",
    "\n",
    "# Run the normalizer on the dataframe\n",
    "wind_normalized = pd.DataFrame(wind_scaled)\n",
    "# change values \n",
    "flights_w_weather['AWND']= wind_normalized\n",
    "flights_w_weather['AWND'].fillna((flights_w_weather['AWND'].mean()), inplace=True)"
   ]
  },
  {
   "cell_type": "code",
   "execution_count": 110,
   "metadata": {},
   "outputs": [
    {
     "name": "stderr",
     "output_type": "stream",
     "text": [
      "/Users/joshfriedman/anaconda/lib/python3.6/site-packages/sklearn/cross_validation.py:44: DeprecationWarning: This module was deprecated in version 0.18 in favor of the model_selection module into which all the refactored classes and functions are moved. Also note that the interface of the new CV iterators are different from that of this module. This module will be removed in 0.20.\n",
      "  \"This module will be removed in 0.20.\", DeprecationWarning)\n"
     ]
    }
   ],
   "source": [
    "# redefined as dflogit before dummy variables\n",
    "dflogit_1=flights_w_weather"
   ]
  },
  {
   "cell_type": "code",
   "execution_count": 111,
   "metadata": {
    "collapsed": true
   },
   "outputs": [],
   "source": [
    "# created dumby variables\n",
    "for elem in dflogit_1['DAY_OF_WEEK']:\n",
    "    dflogit_1[str(elem)] = dflogit_1['DAY_OF_WEEK'] == elem\n",
    "    \n",
    "for elem in dflogit_1['AIRLINE']:\n",
    "    dflogit_1[str(elem)] = dflogit_1['AIRLINE'] == elem\n",
    "    \n",
    "for elem in dflogit_1['SEASON']:\n",
    "    dflogit_1[str(elem)] = dflogit_1['SEASON'] == elem\n",
    "    \n",
    "for elem in dflogit_1['ORIGIN_AIRPORT']:\n",
    "    dflogit_1[str(elem)] = dflogit_1['ORIGIN_AIRPORT'] == elem\n",
    "\n",
    "for elem in dflogit_1['DESTINATION_AIRPORT']:\n",
    "    dflogit_1[str(elem)] = dflogit_1['DESTINATION_AIRPORT'] == elem"
   ]
  },
  {
   "cell_type": "markdown",
   "metadata": {},
   "source": [
    "## Logistic Regression"
   ]
  },
  {
   "cell_type": "code",
   "execution_count": 197,
   "metadata": {
    "collapsed": true
   },
   "outputs": [],
   "source": [
    "from patsy import dmatrices\n",
    "from sklearn.grid_search import GridSearchCV\n",
    "from sklearn.neighbors import KNeighborsClassifier\n",
    "from sklearn.linear_model import LogisticRegression\n",
    "from sklearn.ensemble import RandomForestClassifier\n",
    "from sklearn.cross_validation import train_test_split,  cross_val_score\n",
    "from sklearn import metrics\n",
    "from sklearn.metrics import accuracy_score\n",
    "from sklearn.metrics import confusion_matrix, classification_report"
   ]
  },
  {
   "cell_type": "code",
   "execution_count": 208,
   "metadata": {
    "collapsed": true
   },
   "outputs": [],
   "source": [
    "# Split the data into a training and test set.\n",
    "X_train, X_test, y_train, y_test = train_test_split(dflogit_1[['4', '5', '6', '7',\n",
    "       '1', '2', 'B6', 'AA', 'UA', 'OO', 'Winter', 'Spring',\n",
    "       'Summer', 'ORD', 'AWND', 'PRCP', 'SNOW']].values, (dflogit_1.DELAY == 1).values,random_state=5)"
   ]
  },
  {
   "cell_type": "code",
   "execution_count": 215,
   "metadata": {
    "collapsed": true
   },
   "outputs": [],
   "source": [
    "param_grid = {\"C\":[0.001, 0.1, 1, 10, 100]}\n",
    "clf=GridSearchCV(LogisticRegression(), param_grid, cv = 5)"
   ]
  },
  {
   "cell_type": "code",
   "execution_count": 219,
   "metadata": {},
   "outputs": [
    {
     "name": "stdout",
     "output_type": "stream",
     "text": [
      "accuracy score:0.61\n",
      "confusion matrix:\n",
      " [[ 938  603]\n",
      " [ 634 1010]]\n",
      "\n"
     ]
    }
   ],
   "source": [
    "clf.fit(Xlr, ylr)\n",
    "# accuracy score \n",
    "y_test_pred = clf.predict(X_test)\n",
    "print('accuracy score:{:.2f}'.format(accuracy_score(y_test, y_test_pred)))  \n",
    "# confusion matrix \n",
    "lr_conf_matrix = confusion_matrix(y_test, y_test_pred)\n",
    "print('confusion matrix:\\n {}\\n'.format(lr_conf_matrix))"
   ]
  },
  {
   "cell_type": "markdown",
   "metadata": {},
   "source": [
    "True Positive: 1010 were delays and predicted correctly\n",
    "True Negative: 938 were not delays and predicted correctly \n",
    "False Positive: 634 were delays and predicted incorrectly\n",
    "False Negative: 603 were not delays and predicted incorrectly"
   ]
  },
  {
   "cell_type": "code",
   "execution_count": 220,
   "metadata": {},
   "outputs": [
    {
     "data": {
      "text/plain": [
       "array([[ 0.10106095, -0.03579078, -0.31209424,  0.03625087, -0.02389061,\n",
       "         0.05063511, -0.74585284, -1.14518672, -0.2657793 , -0.62786083,\n",
       "         1.13601329,  0.6986425 ,  0.770679  , -0.09006349,  0.60895963,\n",
       "         1.49682233,  4.35446298]])"
      ]
     },
     "execution_count": 220,
     "metadata": {},
     "output_type": "execute_result"
    }
   ],
   "source": [
    "clf.best_estimator_.coef_"
   ]
  },
  {
   "cell_type": "markdown",
   "metadata": {
    "collapsed": true
   },
   "source": [
    "Snow is the most influential feature. PRCP is 2nd most influential. \n",
    "\n",
    "Weekday coefficients: Wednesday, Thursday, Saturday, Monday all contribute to a higher likelihood of delay than Tuesday. Friday and Saturday all contribute to a lower likelihood of delay.\n",
    "\n",
    "Airline Coefficients: Spirit Airlines appears to have the lowest contribution to a delay. B6, AA, UA, and OO are all negative. \n",
    "\n",
    "Season Coefficients: Fall appears to have the lowest contribution to a delay. Winter, Spring, and Summer are all positive. \n",
    "\n",
    "Airport Coefficients: Boston appears to have a higher contribution to delay than Chicago. "
   ]
  },
  {
   "cell_type": "code",
   "execution_count": 221,
   "metadata": {},
   "outputs": [
    {
     "name": "stdout",
     "output_type": "stream",
     "text": [
      "0.649228074164\n"
     ]
    },
    {
     "data": {
      "image/png": "[encoded data removed]",
      "text/plain": [
       "<matplotlib.figure.Figure at 0x1187b4048>"
      ]
     },
     "metadata": {},
     "output_type": "display_data"
    }
   ],
   "source": [
    "# roc \n",
    "probs = clf.predict_proba(Xtestlr)\n",
    "preds = probs[:,1]\n",
    "fpr, tpr, threshold = metrics.roc_curve(ytestlr, preds)\n",
    "roc_auc = metrics.auc(fpr, tpr)\n",
    "print(roc_auc)\n",
    "\n",
    "# plot\n",
    "plt.title('Receiver Operating Characteristic')\n",
    "plt.plot(fpr, tpr, 'b', label = 'AUC = %0.2f' % roc_auc)\n",
    "plt.legend(loc = 'lower right')\n",
    "plt.plot([0, 1], [0, 1],'r--')\n",
    "plt.xlim([0, 1])\n",
    "plt.ylim([0, 1])\n",
    "plt.ylabel('True Positive Rate')\n",
    "plt.xlabel('False Positive Rate')\n",
    "plt.show()"
   ]
  },
  {
   "cell_type": "markdown",
   "metadata": {},
   "source": [
    "## Random Forest"
   ]
  },
  {
   "cell_type": "code",
   "execution_count": 222,
   "metadata": {
    "collapsed": true
   },
   "outputs": [],
   "source": [
    "X_train, X_test, y_train, y_test = train_test_split(dflogit_1[['4', '5', '6', '7',\n",
    "       '1', '2', 'B6', 'AA', 'UA', 'OO', 'Winter', 'Spring',\n",
    "       'Summer', 'ORD', 'AWND', 'PRCP', 'SNOW']].values, (dflogit_1.DELAY == 1).values, random_state = 5)"
   ]
  },
  {
   "cell_type": "code",
   "execution_count": 223,
   "metadata": {
    "collapsed": true
   },
   "outputs": [],
   "source": [
    "forest_params = {'n_estimators': [1,10,40,70,100],\n",
    "                 'min_samples_split': [8, 16], \n",
    "                 'min_samples_leaf': [4, 8]}\n",
    "rfc = GridSearchCV(RandomForestClassifier(), forest_params, cv=5)"
   ]
  },
  {
   "cell_type": "code",
   "execution_count": 234,
   "metadata": {},
   "outputs": [
    {
     "name": "stdout",
     "output_type": "stream",
     "text": [
      "accuracy score:0.64\n",
      "confusion matrix:\n",
      " [[ 942  599]\n",
      " [ 559 1085]]\n",
      "\n"
     ]
    }
   ],
   "source": [
    "rfc.fit(X_train, y_train)\n",
    "# accuracy score\n",
    "y_test_pred = rfc.predict(X_test)\n",
    "print('accuracy score:{:.2f}'.format(accuracy_score(y_test, y_test_pred)))  \n",
    "\n",
    "# confusion matrix \n",
    "lr_conf_matrix = confusion_matrix(y_test, y_test_pred)\n",
    "print('confusion matrix:\\n {}\\n'.format(lr_conf_matrix))"
   ]
  },
  {
   "cell_type": "markdown",
   "metadata": {},
   "source": [
    "True Positive: 1085 were delays and predicted correctly\n",
    "True Negative: 942 were not delays and predicted correctly \n",
    "False Positive: 599 were not delays and predicted incorrectly\n",
    "False Negative: 559 were delays and predicted incorrectly"
   ]
  },
  {
   "cell_type": "code",
   "execution_count": 239,
   "metadata": {},
   "outputs": [
    {
     "data": {
      "text/plain": [
       "array([ 0.02,  0.02,  0.02,  0.02,  0.02,  0.02,  0.02,  0.09,  0.06,\n",
       "        0.01,  0.05,  0.04,  0.04,  0.04,  0.32,  0.14,  0.06])"
      ]
     },
     "execution_count": 239,
     "metadata": {},
     "output_type": "execute_result"
    }
   ],
   "source": [
    "rfc.best_estimator_.feature_importances_"
   ]
  },
  {
   "cell_type": "markdown",
   "metadata": {},
   "source": [
    "Most important features are Wind and Precipitation."
   ]
  },
  {
   "cell_type": "code",
   "execution_count": 181,
   "metadata": {},
   "outputs": [
    {
     "name": "stdout",
     "output_type": "stream",
     "text": [
      "0.682395898957\n"
     ]
    },
    {
     "data": {
      "image/png": "[encoded data removed]",
      "text/plain": [
       "<matplotlib.figure.Figure at 0x10fdad860>"
      ]
     },
     "metadata": {},
     "output_type": "display_data"
    }
   ],
   "source": [
    "probs = rfc.predict_proba(X_test)\n",
    "preds = probs[:,1]\n",
    "fpr, tpr, threshold = metrics.roc_curve(y_test, preds)\n",
    "roc_auc = metrics.auc(fpr, tpr)\n",
    "print(roc_auc)\n",
    "\n",
    "# plot\n",
    "plt.title('Receiver Operating Characteristic')\n",
    "plt.plot(fpr, tpr, 'b', label = 'AUC = %0.2f' % roc_auc)\n",
    "plt.legend(loc = 'lower right')\n",
    "plt.plot([0, 1], [0, 1],'r--')\n",
    "plt.xlim([0, 1])\n",
    "plt.ylim([0, 1])\n",
    "plt.ylabel('True Positive Rate')\n",
    "plt.xlabel('False Positive Rate')\n",
    "plt.show()"
   ]
  },
  {
   "cell_type": "markdown",
   "metadata": {},
   "source": [
    "## K-NN"
   ]
  },
  {
   "cell_type": "code",
   "execution_count": 183,
   "metadata": {
    "collapsed": true
   },
   "outputs": [],
   "source": [
    "X_train, X_test,y_train,y_test = train_test_split(dflogit_1[['4', '5', '6', '7',\n",
    "       '1', '2', 'B6', 'AA', 'UA', 'OO', 'Winter', 'Spring',\n",
    "       'Summer', 'ORD', 'AWND', 'PRCP', 'SNOW']].values, (dflogit_1.DELAY == 1).values, random_state = 5)"
   ]
  },
  {
   "cell_type": "code",
   "execution_count": 236,
   "metadata": {
    "collapsed": true
   },
   "outputs": [],
   "source": [
    "param_grid = {'n_neighbors': [20,30,40,50,60,70,80,90,100]}\n",
    "knn = GridSearchCV(KNeighborsClassifier(), param_grid, cv = 5)"
   ]
  },
  {
   "cell_type": "code",
   "execution_count": 237,
   "metadata": {},
   "outputs": [
    {
     "name": "stdout",
     "output_type": "stream",
     "text": [
      "accuracy score:0.61\n",
      "confusion matrix:\n",
      " [[979 562]\n",
      " [694 950]]\n",
      "\n"
     ]
    }
   ],
   "source": [
    "knn.fit(X_train,y_train)\n",
    "# accuracy score\n",
    "y_test_pred = grid.predict(X_test)\n",
    "print('accuracy score:{:.2f}'.format(accuracy_score(y_test, y_test_pred))) \n",
    "\n",
    "# confusion matrix\n",
    "knn_conf_matrix = confusion_matrix(y_test, y_test_pred)\n",
    "print('confusion matrix:\\n {}\\n'.format(knn_conf_matrix))"
   ]
  },
  {
   "cell_type": "markdown",
   "metadata": {},
   "source": [
    "True Positive: 950 were delays and predicted correctly\n",
    "True Negative: 979 were not delays and predicted correctly \n",
    "False Positive: 562 were not delays and predicted incorrectly\n",
    "False Negative:  694 were delays and predicted incorrectly"
   ]
  },
  {
   "cell_type": "code",
   "execution_count": 226,
   "metadata": {},
   "outputs": [
    {
     "name": "stdout",
     "output_type": "stream",
     "text": [
      "0.64180012347\n"
     ]
    },
    {
     "data": {
      "image/png": "[encoded data removed]",
      "text/plain": [
       "<matplotlib.figure.Figure at 0x10e14fef0>"
      ]
     },
     "metadata": {},
     "output_type": "display_data"
    }
   ],
   "source": [
    "probs = knn.predict_proba(X_test)\n",
    "preds = probs[:,1]\n",
    "fpr, tpr, threshold = metrics.roc_curve(y_test, preds)\n",
    "roc_auc = metrics.auc(fpr, tpr)\n",
    "print(roc_auc)\n",
    "\n",
    "# plot\n",
    "plt.title('Receiver Operating Characteristic')\n",
    "plt.plot(fpr, tpr, 'b', label = 'AUC = %0.2f' % roc_auc)\n",
    "plt.legend(loc = 'lower right')\n",
    "plt.plot([0, 1], [0, 1],'r--')\n",
    "plt.xlim([0, 1])\n",
    "plt.ylim([0, 1])\n",
    "plt.ylabel('True Positive Rate')\n",
    "plt.xlabel('False Positive Rate')\n",
    "plt.show()"
   ]
  },
  {
   "cell_type": "markdown",
   "metadata": {},
   "source": [
    "Random forest performs best with an AUC score of .68. Logistic regression and KNN model provided an AUC score of .65 and .64, respectively. "
   ]
  },
  {
   "cell_type": "code",
   "execution_count": null,
   "metadata": {
    "collapsed": true
   },
   "outputs": [],
   "source": []
  }
 ],
 "metadata": {
  "kernelspec": {
   "display_name": "Python 3",
   "language": "python",
   "name": "python3"
  },
  "language_info": {
   "codemirror_mode": {
    "name": "ipython",
    "version": 3
   },
   "file_extension": ".py",
   "mimetype": "text/x-python",
   "name": "python",
   "nbconvert_exporter": "python",
   "pygments_lexer": "ipython3",
   "version": "3.6.1"
  }
 },
 "nbformat": 4,
 "nbformat_minor": 2
}
